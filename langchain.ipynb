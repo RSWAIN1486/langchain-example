{
 "cells": [
  {
   "cell_type": "code",
   "execution_count": null,
   "id": "cfde7558-17f2-4fe2-a33d-0284c9470b42",
   "metadata": {},
   "outputs": [],
   "source": [
    "! curl http://localhost:8080/embeddings -X POST -H \"Content-Type: application/json\" -d '{\"input\": \"Your text string goes here\", \"model\": \"text-embedding-ada-002\"}'"
   ]
  },
  {
   "cell_type": "code",
   "execution_count": 5,
   "id": "8985ac6a-9934-4ab3-9663-126ceb418b63",
   "metadata": {},
   "outputs": [
    {
     "name": "stdout",
     "output_type": "stream",
     "text": [
      "{\"created\":1708158369,\"object\":\"chat.completion\",\"id\":\"488992f7-5299-4bf5-b173-19a3057d49a6\",\"model\":\"mixtral\",\"choices\":[{\"index\":0,\"finish_reason\":\"stop\",\"message\":{\"role\":\"assistant\",\"content\":\"I'm just a computer program, so I don't have feelings or emotions. I'm here to help answer your questions to the best of my ability. Is there something specific you would like to know?\\n\\nIf you're asking about the status of my operation, I'm currently functioning as intended. Thank you for asking! Is there anything I can help you with?\"}}],\"usage\":{\"prompt_tokens\":0,\"completion_tokens\":0,\"total_tokens\":0}}"
     ]
    }
   ],
   "source": [
    "! curl http://localhost:8080/v1/chat/completions -H \"Content-Type: application/json\" -d '{ \"model\": \"mixtral\", \"messages\": [{\"role\": \"user\", \"content\": \"How are you?\"}], \"temperature\": 0.9 }'"
   ]
  },
  {
   "cell_type": "markdown",
   "id": "dc275fa6-8576-4f98-860d-712bc73ff2b4",
   "metadata": {},
   "source": [
    "# Langchain Function Calling"
   ]
  },
  {
   "cell_type": "code",
   "execution_count": null,
   "id": "dcd89213-7f6d-450d-80e9-c8144761209f",
   "metadata": {},
   "outputs": [],
   "source": [
    "!pip install langchain langchain-openai"
   ]
  },
  {
   "cell_type": "code",
   "execution_count": 7,
   "id": "17ecb6b3-5ac1-4940-a7ab-30028a635f51",
   "metadata": {},
   "outputs": [],
   "source": [
    "import os\n",
    "from langchain_core.output_parsers import StrOutputParser\n",
    "from langchain_core.prompts import ChatPromptTemplate\n",
    "from langchain_openai import ChatOpenAI"
   ]
  },
  {
   "cell_type": "code",
   "execution_count": 8,
   "id": "dc0d0f45-603c-4282-9b2f-42e31f1c2e37",
   "metadata": {},
   "outputs": [],
   "source": [
    "os.environ[\"OPENAI_API_BASE\"] = \"http://localhost:8080/v1\"\n",
    "os.environ[\"OPENAI_API_KEY\"] = \"NONE\""
   ]
  },
  {
   "cell_type": "code",
   "execution_count": 9,
   "id": "ff981a43-0d58-46db-af0a-9ff1ada125ae",
   "metadata": {},
   "outputs": [],
   "source": [
    "prompt = ChatPromptTemplate.from_template(\"tell me a short joke about {topic}\")\n",
    "model = ChatOpenAI(model=\"mixtral\")"
   ]
  },
  {
   "cell_type": "code",
   "execution_count": 10,
   "id": "6d3eac38-29c6-4b85-8a47-95a45d076411",
   "metadata": {},
   "outputs": [],
   "source": [
    "output_parser = StrOutputParser()"
   ]
  },
  {
   "cell_type": "code",
   "execution_count": 11,
   "id": "4c4aaa2e-806f-4fc0-9bdd-9c1632f60ced",
   "metadata": {},
   "outputs": [],
   "source": [
    "chain = prompt | model | output_parser"
   ]
  },
  {
   "cell_type": "code",
   "execution_count": 12,
   "id": "5f7469c6-496e-4241-b200-5bab76043fcf",
   "metadata": {},
   "outputs": [],
   "source": [
    "out = chain.invoke({\"topic\": \"ice cream\"})"
   ]
  },
  {
   "cell_type": "code",
   "execution_count": 13,
   "id": "9daf5c18-7a4a-452f-b464-9e34f1a8d363",
   "metadata": {},
   "outputs": [
    {
     "name": "stdout",
     "output_type": "stream",
     "text": [
      "Why don't ice creams ever argue?\n",
      "\n",
      "Because they always cool down before things heat up!\n"
     ]
    }
   ],
   "source": [
    "print(out)"
   ]
  },
  {
   "cell_type": "code",
   "execution_count": 14,
   "id": "b7c20a4f-5f6b-469c-9b41-1f8c12716fe9",
   "metadata": {},
   "outputs": [
    {
     "data": {
      "text/plain": [
       "AIMessage(content=\"Why don't ice creams ever argue?\\n\\nBecause they always cool down before things heat up!\")"
      ]
     },
     "execution_count": 14,
     "metadata": {},
     "output_type": "execute_result"
    }
   ],
   "source": [
    "(prompt | model).invoke({\"topic\": \"ice cream\"})"
   ]
  },
  {
   "cell_type": "code",
   "execution_count": 15,
   "id": "8809200c-a30f-4959-9e53-073a10b7f409",
   "metadata": {},
   "outputs": [
    {
     "data": {
      "text/plain": [
       "ChatPromptValue(messages=[HumanMessage(content='tell me a short joke about ice cream')])"
      ]
     },
     "execution_count": 15,
     "metadata": {},
     "output_type": "execute_result"
    }
   ],
   "source": [
    "(prompt).invoke({\"topic\": \"ice cream\"})"
   ]
  },
  {
   "cell_type": "code",
   "execution_count": null,
   "id": "09b884dd-c903-411b-aa64-7c7daa7efb68",
   "metadata": {},
   "outputs": [],
   "source": []
  },
  {
   "cell_type": "code",
   "execution_count": 1,
   "id": "bf79d5ed-9f4a-4400-b93b-b41b6abe9541",
   "metadata": {},
   "outputs": [],
   "source": [
    "import openai\n",
    "import json\n",
    "import requests\n",
    "\n",
    "from openai import OpenAI"
   ]
  },
  {
   "cell_type": "code",
   "execution_count": 2,
   "id": "af937f4d-5c4f-4eaf-9184-b0951c640b82",
   "metadata": {},
   "outputs": [],
   "source": [
    "client = OpenAI(base_url=\"http://localhost:8080/v1\", api_key=\"NONE\")\n"
   ]
  },
  {
   "cell_type": "code",
   "execution_count": 7,
   "id": "0efd8588-e543-4341-b175-0d2e582ad4d8",
   "metadata": {},
   "outputs": [],
   "source": [
    "def get_current_weather(location, units=\"metric\"):\n",
    "    \"\"\"Get the current weather in a given location\"\"\"\n",
    "\n",
    "    url = f\"https://api.tomorrow.io/v4/weather/realtime?location={location.lower()}&units={units}&apikey=hZdpIwxHljGjU8UCsACtOQla3Ct4mZs2\"\n",
    "\n",
    "    headers = {\"accept\": \"application/json\"}\n",
    "    \n",
    "    response = requests.get(url, headers=headers).json()\n",
    "    \n",
    "    weather_info = response['data']\n",
    "    return json.dumps(weather_info)"
   ]
  },
  {
   "cell_type": "code",
   "execution_count": 11,
   "id": "e225cba0-0b3f-4d89-a623-13280ce03817",
   "metadata": {},
   "outputs": [
    {
     "data": {
      "text/plain": [
       "'{\"time\": \"2024-02-22T07:49:00Z\", \"values\": {\"cloudBase\": 0.23, \"cloudCeiling\": 0.23, \"cloudCover\": 99, \"dewPoint\": 20.38, \"freezingRainIntensity\": 0, \"humidity\": 90, \"precipitationProbability\": 100, \"pressureSurfaceLevel\": 1005.54, \"rainIntensity\": 1.21, \"sleetIntensity\": 0, \"snowIntensity\": 0, \"temperature\": 24.88, \"temperatureApparent\": 24.88, \"uvHealthConcern\": 1, \"uvIndex\": 2, \"visibility\": 7.51, \"weatherCode\": 4200, \"windDirection\": 219.69, \"windGust\": 2.13, \"windSpeed\": 0.63}}'"
      ]
     },
     "execution_count": 11,
     "metadata": {},
     "output_type": "execute_result"
    }
   ],
   "source": [
    "get_current_weather(\"silchar\")"
   ]
  },
  {
   "cell_type": "code",
   "execution_count": 12,
   "id": "8b3f59f6-695d-4d70-9514-3e8096c52346",
   "metadata": {},
   "outputs": [],
   "source": [
    "functions = [\n",
    "        {\n",
    "            \"name\": \"get_current_weather\",\n",
    "            \"description\": \"Get the current weather in a given location\",\n",
    "            \"parameters\": {\n",
    "                \"type\": \"object\",\n",
    "                \"properties\": {\n",
    "                    \"location\": {\n",
    "                        \"type\": \"string\",\n",
    "                        \"description\": \"The city and state, e.g. 'san francisco' or 'new york' or 'bengaluru' or 'toronro'\",\n",
    "                    },\n",
    "                    \"units\": {\"type\": \"string\", \"enum\": [\"metric\", \"imperial\"]},\n",
    "                },\n",
    "                \"required\": [\"location\"],\n",
    "            },\n",
    "        }\n",
    "    ]"
   ]
  },
  {
   "cell_type": "code",
   "execution_count": 14,
   "id": "fbe1aa5e-62b0-41b6-94cb-3c6362c942dc",
   "metadata": {},
   "outputs": [],
   "source": [
    "messages = [{\"role\": \"user\", \"content\": \"What's the weather like in Silchar?\"}]"
   ]
  },
  {
   "cell_type": "code",
   "execution_count": 15,
   "id": "07d491e7-7c3a-40c8-8086-64b0a91e5373",
   "metadata": {},
   "outputs": [],
   "source": [
    "response = client.chat.completions.create(\n",
    "    model=\"mixtral\",\n",
    "    messages=messages,\n",
    "    functions=functions,\n",
    "    function_call=\"auto\",  # auto is default, but we'll be explicit\n",
    ")\n",
    "\n",
    "response_message = response.choices[0].message"
   ]
  },
  {
   "cell_type": "code",
   "execution_count": 17,
   "id": "1537eb48-f88f-497a-81fd-1a72a4115263",
   "metadata": {},
   "outputs": [
    {
     "data": {
      "text/plain": [
       "FunctionCall(arguments='{\"location\":\"Silchar\",\"units\":\"metric\"}', name='get_current_weather', function='get_current_weather')"
      ]
     },
     "execution_count": 17,
     "metadata": {},
     "output_type": "execute_result"
    }
   ],
   "source": [
    "response_message.function_call"
   ]
  },
  {
   "cell_type": "code",
   "execution_count": 18,
   "id": "691726a7-051b-4787-9b89-3c3bd2d0dd35",
   "metadata": {},
   "outputs": [],
   "source": [
    "if response_message.function_call:\n",
    "    available_functions = {\n",
    "        \"get_current_weather\": get_current_weather,\n",
    "    }  # only one function in this example, but you can have multiple\n",
    "    function_name = response_message.function_call.name\n",
    "    fuction_to_call = available_functions[function_name]\n",
    "    function_args = json.loads(response_message.function_call.arguments)\n",
    "    function_response = fuction_to_call(\n",
    "        **function_args,\n",
    "    )"
   ]
  },
  {
   "cell_type": "code",
   "execution_count": 19,
   "id": "ebe9093a-4905-48e3-80fd-56401f197994",
   "metadata": {},
   "outputs": [
    {
     "data": {
      "text/plain": [
       "'{\"time\": \"2024-02-22T08:09:00Z\", \"values\": {\"cloudBase\": 0.21, \"cloudCeiling\": 0.21, \"cloudCover\": 100, \"dewPoint\": 20.19, \"freezingRainIntensity\": 0, \"humidity\": 91, \"precipitationProbability\": 100, \"pressureSurfaceLevel\": 1005.51, \"rainIntensity\": 2.45, \"sleetIntensity\": 0, \"snowIntensity\": 0, \"temperature\": 24.81, \"temperatureApparent\": 24.81, \"uvHealthConcern\": 1, \"uvIndex\": 2, \"visibility\": 4.17, \"weatherCode\": 4200, \"windDirection\": 302.31, \"windGust\": 2.31, \"windSpeed\": 1.63}}'"
      ]
     },
     "execution_count": 19,
     "metadata": {},
     "output_type": "execute_result"
    }
   ],
   "source": [
    "function_response"
   ]
  },
  {
   "cell_type": "code",
   "execution_count": 20,
   "id": "5ac0585f-45e5-4f3b-a41c-bdc6e6854472",
   "metadata": {},
   "outputs": [
    {
     "data": {
      "text/plain": [
       "[{'role': 'user', 'content': \"What's the weather like in Silchar?\"},\n",
       " ChatCompletionMessage(content=None, role='assistant', function_call=FunctionCall(arguments='{\"location\":\"Silchar\",\"units\":\"metric\"}', name='get_current_weather', function='get_current_weather'), tool_calls=None),\n",
       " {'role': 'function',\n",
       "  'name': 'get_current_weather',\n",
       "  'content': '{\"time\": \"2024-02-22T08:09:00Z\", \"values\": {\"cloudBase\": 0.21, \"cloudCeiling\": 0.21, \"cloudCover\": 100, \"dewPoint\": 20.19, \"freezingRainIntensity\": 0, \"humidity\": 91, \"precipitationProbability\": 100, \"pressureSurfaceLevel\": 1005.51, \"rainIntensity\": 2.45, \"sleetIntensity\": 0, \"snowIntensity\": 0, \"temperature\": 24.81, \"temperatureApparent\": 24.81, \"uvHealthConcern\": 1, \"uvIndex\": 2, \"visibility\": 4.17, \"weatherCode\": 4200, \"windDirection\": 302.31, \"windGust\": 2.31, \"windSpeed\": 1.63}}'}]"
      ]
     },
     "execution_count": 20,
     "metadata": {},
     "output_type": "execute_result"
    }
   ],
   "source": [
    "if response_message.function_call:\n",
    "    messages.append(response_message)  # extend conversation with assistant's reply\n",
    "    messages.append(\n",
    "        {\n",
    "            \"role\": \"function\",\n",
    "            \"name\": function_name,\n",
    "            \"content\": function_response,\n",
    "        }\n",
    "    )  # extend conversation with function response\n",
    "messages"
   ]
  },
  {
   "cell_type": "code",
   "execution_count": 21,
   "id": "d45033fb-7728-4aa9-ab16-74b0f8b07f94",
   "metadata": {},
   "outputs": [],
   "source": [
    " second_response = client.chat.completions.create(\n",
    "        model=\"mixtral\",\n",
    "        messages=messages,\n",
    "    )  # get a new response from GPT where it can see the function response"
   ]
  },
  {
   "cell_type": "code",
   "execution_count": 22,
   "id": "428702cd-7e41-46da-a322-c94def2319f9",
   "metadata": {},
   "outputs": [
    {
     "name": "stdout",
     "output_type": "stream",
     "text": [
      "Based on the provided data, the current weather in Silchar at the specified time is as follows:\n",
      "\n",
      "* The temperature is 24.81°C, with an apparent temperature of 24.81°C.\n",
      "* The relative humidity is 91%.\n",
      "* The dew point is 20.19°C.\n",
      "* The visibility is currently 4.17 km.\n",
      "* The wind is coming from a direction of 302.31° with a speed of 1.63 m/s and a gust of 2.31 m/s.\n",
      "* The weather code is 4200, which indicates moderate rain.\n",
      "* The cloud cover is 100%, with a cloud base of 0.21 and a cloud ceiling of 0.21.\n",
      "* The precipitation probability is 100%, with a rain intensity of 2.45 mm/h.\n",
      "* The freezing rain intensity, sleet intensity, and snow intensity are all 0 mm/h.\n",
      "* The atmospheric pressure at the surface level is 1005.51 hPa.\n",
      "* The UV health concern is 1, and the UV index is 2.\n",
      "\n",
      "I hope this information helps! Let me know if you have any other questions.\n"
     ]
    }
   ],
   "source": [
    "print(second_response.choices[0].message.content)"
   ]
  },
  {
   "cell_type": "markdown",
   "id": "5c271d77-4f39-421f-811b-fd6b9b0a15ec",
   "metadata": {},
   "source": [
    "# Langchain Agents"
   ]
  },
  {
   "cell_type": "markdown",
   "id": "bd01d2f6-9ce1-4a15-8ce4-f6b5030705af",
   "metadata": {},
   "source": [
    "## ReAct"
   ]
  },
  {
   "cell_type": "code",
   "execution_count": null,
   "id": "6ffe8c96-a32a-4b09-8d30-c43fee045c4e",
   "metadata": {},
   "outputs": [],
   "source": [
    "! pip install langchain"
   ]
  },
  {
   "cell_type": "code",
   "execution_count": 23,
   "id": "c40799bf-8df7-4547-8b42-02f4317e589a",
   "metadata": {},
   "outputs": [],
   "source": [
    "import os\n",
    "\n",
    "from langchain import hub\n",
    "from langchain_openai import ChatOpenAI\n",
    "from langchain.agents import AgentExecutor, create_react_agent, tool\n",
    "from langchain_openai import OpenAI"
   ]
  },
  {
   "cell_type": "code",
   "execution_count": 24,
   "id": "614b0a65-9c50-4d28-b47b-e3e35a77e284",
   "metadata": {},
   "outputs": [],
   "source": [
    "os.environ[\"OPENAI_API_BASE\"] = \"http://localhost:8080/v1\"\n",
    "os.environ[\"OPENAI_API_KEY\"] = \"NONE\""
   ]
  },
  {
   "cell_type": "code",
   "execution_count": null,
   "id": "d136f97a-b23c-45bd-842b-9120fb6052cf",
   "metadata": {},
   "outputs": [],
   "source": [
    "! pip install langchainhub"
   ]
  },
  {
   "cell_type": "code",
   "execution_count": 29,
   "id": "9c3d096e-42cc-4084-a546-3e36895e0dc9",
   "metadata": {},
   "outputs": [],
   "source": [
    "prompt = hub.pull(\"hwchase17/react\")"
   ]
  },
  {
   "cell_type": "code",
   "execution_count": 30,
   "id": "59a6a783-61ed-432b-bafa-a7e0c6d96550",
   "metadata": {},
   "outputs": [
    {
     "name": "stdout",
     "output_type": "stream",
     "text": [
      "Answer the following questions as best you can. You have access to the following tools:\n",
      "\n",
      "{tools}\n",
      "\n",
      "Use the following format:\n",
      "\n",
      "Question: the input question you must answer\n",
      "Thought: you should always think about what to do\n",
      "Action: the action to take, should be one of [{tool_names}]\n",
      "Action Input: the input to the action\n",
      "Observation: the result of the action\n",
      "... (this Thought/Action/Action Input/Observation can repeat N times)\n",
      "Thought: I now know the final answer\n",
      "Final Answer: the final answer to the original input question\n",
      "\n",
      "Begin!\n",
      "\n",
      "Question: {input}\n",
      "Thought:{agent_scratchpad}\n"
     ]
    }
   ],
   "source": [
    "print(prompt.template)"
   ]
  },
  {
   "cell_type": "code",
   "execution_count": 31,
   "id": "0de9e4ef-da60-482f-a481-e01b40f44f0a",
   "metadata": {},
   "outputs": [],
   "source": [
    "@tool\n",
    "def get_word_length(word: str) -> int:\n",
    "    \"\"\"Returns the length of the word.\"\"\"\n",
    "    return len(word)"
   ]
  },
  {
   "cell_type": "code",
   "execution_count": 32,
   "id": "72a66d18-539a-4569-bf99-5744cf53b258",
   "metadata": {},
   "outputs": [
    {
     "data": {
      "text/plain": [
       "'get_word_length(word: str) -> int - Returns the length of the word.'"
      ]
     },
     "execution_count": 32,
     "metadata": {},
     "output_type": "execute_result"
    }
   ],
   "source": [
    "get_word_length.description"
   ]
  },
  {
   "cell_type": "code",
   "execution_count": 33,
   "id": "fa7376bd-7679-4df0-b102-9e1c20829ab3",
   "metadata": {},
   "outputs": [],
   "source": [
    "tools = [get_word_length]"
   ]
  },
  {
   "cell_type": "code",
   "execution_count": 34,
   "id": "7e2b0962-2d75-47d0-bd41-6fed34d0e11d",
   "metadata": {},
   "outputs": [],
   "source": [
    "llm = ChatOpenAI(model=\"mixtral\", streaming=False)\n"
   ]
  },
  {
   "cell_type": "code",
   "execution_count": 35,
   "id": "f7bed4be-1875-4b6e-8f2a-28fc822d47b3",
   "metadata": {},
   "outputs": [],
   "source": [
    "agent = create_react_agent(llm, tools, prompt)\n"
   ]
  },
  {
   "cell_type": "code",
   "execution_count": 36,
   "id": "2c747a15-40cf-4c54-8fda-b26e058d5d2d",
   "metadata": {},
   "outputs": [],
   "source": [
    "agent_executor = AgentExecutor(agent=agent, tools=tools, verbose=True)\n"
   ]
  },
  {
   "cell_type": "code",
   "execution_count": 38,
   "id": "b3a26960-d6ca-4739-94c3-d449cd1edaf4",
   "metadata": {},
   "outputs": [
    {
     "name": "stdout",
     "output_type": "stream",
     "text": [
      "\n",
      "\n",
      "\u001b[1m> Entering new AgentExecutor chain...\u001b[0m\n",
      "\u001b[32;1m\u001b[1;3mI need to find the length of the word \"theschoolofai\". I can use the `get_word_length` function to do this.\n",
      "\n",
      "Action: get_word_length\n",
      "Action Input: theschoolofai\u001b[0m\u001b[36;1m\u001b[1;3m13\u001b[0m\u001b[32;1m\u001b[1;3mThought: I now know the final answer. The word \"theschoolofai\" has 13 letters in it.\n",
      "Final Answer: The word \"theschoolofai\" has 13 letters in it.\u001b[0m\n",
      "\n",
      "\u001b[1m> Finished chain.\u001b[0m\n"
     ]
    }
   ],
   "source": [
    "output = await agent_executor.ainvoke({\"input\": \"how many letters in the word theschoolofai?\"})\n"
   ]
  },
  {
   "cell_type": "markdown",
   "id": "db74eebd-df16-48dd-802e-5a982082c42f",
   "metadata": {},
   "source": [
    "## Q&A Agent\n"
   ]
  },
  {
   "cell_type": "code",
   "execution_count": 41,
   "id": "9c434f2f-5f98-4ca0-9eb4-5fd073955f38",
   "metadata": {},
   "outputs": [
    {
     "name": "stdout",
     "output_type": "stream",
     "text": [
      "Collecting faiss-cpu\n",
      "  Downloading faiss_cpu-1.7.4-cp310-cp310-manylinux_2_17_x86_64.manylinux2014_x86_64.whl (17.6 MB)\n",
      "\u001b[2K     \u001b[90m━━━━━━━━━━━━━━━━━━━━━━━━━━━━━━━━━━━━━━━━\u001b[0m \u001b[32m17.6/17.6 MB\u001b[0m \u001b[31m78.9 MB/s\u001b[0m eta \u001b[36m0:00:00\u001b[0m00:01\u001b[0m00:01\u001b[0m\n",
      "\u001b[?25hCollecting pypdf\n",
      "  Downloading pypdf-4.0.2-py3-none-any.whl (283 kB)\n",
      "\u001b[2K     \u001b[90m━━━━━━━━━━━━━━━━━━━━━━━━━━━━━━━━━━━━━━\u001b[0m \u001b[32m284.0/284.0 kB\u001b[0m \u001b[31m50.7 MB/s\u001b[0m eta \u001b[36m0:00:00\u001b[0m\n",
      "\u001b[?25hInstalling collected packages: faiss-cpu, pypdf\n",
      "Successfully installed faiss-cpu-1.7.4 pypdf-4.0.2\n"
     ]
    }
   ],
   "source": [
    "! pip install faiss-cpu pypdf\n"
   ]
  },
  {
   "cell_type": "code",
   "execution_count": 43,
   "id": "290e0e73-8986-4104-bbf4-abd436c9da0c",
   "metadata": {},
   "outputs": [
    {
     "name": "stdout",
     "output_type": "stream",
     "text": [
      "--2024-02-22 09:10:22--  https://arxiv.org/pdf/2401.10166.pdf\n",
      "Resolving arxiv.org (arxiv.org)... 151.101.67.42, 151.101.131.42, 151.101.195.42, ...\n",
      "Connecting to arxiv.org (arxiv.org)|151.101.67.42|:443... connected.\n",
      "HTTP request sent, awaiting response... 200 OK\n",
      "Length: 4794587 (4.6M) [application/pdf]\n",
      "Saving to: ‘2401.10166.pdf’\n",
      "\n",
      "2401.10166.pdf      100%[===================>]   4.57M  1.47MB/s    in 3.1s    \n",
      "\n",
      "2024-02-22 09:10:26 (1.47 MB/s) - ‘2401.10166.pdf’ saved [4794587/4794587]\n",
      "\n",
      "--2024-02-22 09:10:26--  https://arxiv.org/ftp/arxiv/papers/2312/2312.00752.pdf\n",
      "Resolving arxiv.org (arxiv.org)... 151.101.3.42, 151.101.195.42, 151.101.131.42, ...\n",
      "Connecting to arxiv.org (arxiv.org)|151.101.3.42|:443... connected.\n",
      "HTTP request sent, awaiting response... 200 OK\n",
      "Length: 1293868 (1.2M) [application/pdf]\n",
      "Saving to: ‘2312.00752.pdf’\n",
      "\n",
      "2312.00752.pdf      100%[===================>]   1.23M  6.19MB/s    in 0.2s    \n",
      "\n",
      "2024-02-22 09:10:27 (6.19 MB/s) - ‘2312.00752.pdf’ saved [1293868/1293868]\n",
      "\n",
      "--2024-02-22 09:10:27--  https://arxiv.org/pdf/2401.07519v1.pdf\n",
      "Resolving arxiv.org (arxiv.org)... 151.101.3.42, 151.101.195.42, 151.101.131.42, ...\n",
      "Connecting to arxiv.org (arxiv.org)|151.101.3.42|:443... connected.\n",
      "HTTP request sent, awaiting response... 200 OK\n",
      "Length: 37359421 (36M) [application/pdf]\n",
      "Saving to: ‘2401.07519v1.pdf’\n",
      "\n",
      "2401.07519v1.pdf      2%[                    ]   1.00M  --.-KB/s    in 0.006s  \n",
      "\n",
      "2024-02-22 09:10:28 (163 MB/s) - Connection closed at byte 1048576. Retrying.\n",
      "\n",
      "--2024-02-22 09:10:29--  (try: 2)  https://arxiv.org/pdf/2401.07519v1.pdf\n",
      "Connecting to arxiv.org (arxiv.org)|151.101.3.42|:443... connected.\n",
      "HTTP request sent, awaiting response... 403 Forbidden\n",
      "2024-02-22 09:10:29 ERROR 403: Forbidden.\n",
      "\n"
     ]
    }
   ],
   "source": [
    "! mkdir -p papers\n",
    "! cd papers && wget https://arxiv.org/pdf/2401.10166.pdf && wget https://arxiv.org/ftp/arxiv/papers/2312/2312.00752.pdf && wget https://arxiv.org/pdf/2401.07519v1.pdf && wget https://arxiv.org/pdf/2212.11613v5.pdf"
   ]
  },
  {
   "cell_type": "code",
   "execution_count": 45,
   "id": "7142f119-45df-4169-8365-6fd0ad09a0dd",
   "metadata": {},
   "outputs": [
    {
     "name": "stdout",
     "output_type": "stream",
     "text": [
      "--2024-02-22 09:12:01--  https://arxiv.org/pdf/2212.11613v5.pdf\n",
      "Resolving arxiv.org (arxiv.org)... 151.101.3.42, 151.101.195.42, 151.101.131.42, ...\n",
      "Connecting to arxiv.org (arxiv.org)|151.101.3.42|:443... connected.\n",
      "HTTP request sent, awaiting response... 403 Forbidden\n",
      "2024-02-22 09:12:01 ERROR 403: Forbidden.\n",
      "\n"
     ]
    }
   ],
   "source": [
    "! wget https://arxiv.org/pdf/2212.11613v5.pdf"
   ]
  },
  {
   "cell_type": "code",
   "execution_count": 1,
   "id": "7370fb9f-410a-4005-9a15-044f057c4c82",
   "metadata": {},
   "outputs": [],
   "source": [
    "import os\n",
    "\n",
    "from langchain_community.document_loaders import PyPDFDirectoryLoader\n",
    "from langchain.text_splitter import CharacterTextSplitter\n",
    "from langchain_community.vectorstores import FAISS\n",
    "from langchain_openai import OpenAIEmbeddings, OpenAI\n",
    "from langchain.tools.retriever import create_retriever_tool\n",
    "from langchain.chains import RetrievalQA\n",
    "from langchain import hub\n",
    "\n",
    "os.environ[\"OPENAI_API_BASE\"] = \"http://localhost:8080/v1\"\n",
    "os.environ[\"OPENAI_API_KEY\"] = \"NONE\""
   ]
  },
  {
   "cell_type": "code",
   "execution_count": 7,
   "id": "9657597c-b2e8-4c1d-8dbf-68cf2381af87",
   "metadata": {},
   "outputs": [],
   "source": [
    "loader = PyPDFDirectoryLoader(\"papers/\")"
   ]
  },
  {
   "cell_type": "code",
   "execution_count": 8,
   "id": "34c11073-31cc-4149-86dd-1d16ec52b531",
   "metadata": {},
   "outputs": [],
   "source": [
    "docs = loader.load()\n"
   ]
  },
  {
   "cell_type": "code",
   "execution_count": 9,
   "id": "512ed2e2-ea52-43dd-bdb6-138364e57e13",
   "metadata": {},
   "outputs": [],
   "source": [
    "text_splitter = CharacterTextSplitter(chunk_size=1000, chunk_overlap=0)\n",
    "texts = text_splitter.split_documents(docs)\n",
    "embeddings = OpenAIEmbeddings(model=\"text-embedding-ada-002\")\n",
    "db = FAISS.from_documents(texts, embeddings)"
   ]
  },
  {
   "cell_type": "code",
   "execution_count": 10,
   "id": "6a680e03-177b-469d-b77e-07291476be10",
   "metadata": {},
   "outputs": [],
   "source": [
    "retriever = db.as_retriever()\n"
   ]
  },
  {
   "cell_type": "code",
   "execution_count": 11,
   "id": "06a35ba8-601e-4767-814f-f25f9effea78",
   "metadata": {},
   "outputs": [],
   "source": [
    "llm = OpenAI(model=\"mixtral\", temperature=0)\n"
   ]
  },
  {
   "cell_type": "code",
   "execution_count": 12,
   "id": "6da35a3d-9498-43b2-ac67-061666dced0c",
   "metadata": {},
   "outputs": [],
   "source": [
    "prompt = hub.pull(\"rlm/rag-prompt\")\n"
   ]
  },
  {
   "cell_type": "code",
   "execution_count": 13,
   "id": "00225e68-a4f4-45f1-91c5-ede2d57d3b9e",
   "metadata": {},
   "outputs": [],
   "source": [
    "qa_chain = RetrievalQA.from_chain_type(\n",
    "    llm,\n",
    "    retriever=retriever,\n",
    "    chain_type_kwargs={\"prompt\": prompt}\n",
    ")"
   ]
  },
  {
   "cell_type": "code",
   "execution_count": 14,
   "id": "acf90da8-1da4-49ad-84e5-b3fd2bdec208",
   "metadata": {},
   "outputs": [],
   "source": [
    "question = \"What is VMamba? how is Mamba different from a Transformer?\"\n",
    "result = qa_chain.invoke({\"query\": question})"
   ]
  },
  {
   "cell_type": "code",
   "execution_count": 15,
   "id": "885d7298-7885-470e-9a41-0ce3e3bc6890",
   "metadata": {},
   "outputs": [
    {
     "name": "stdout",
     "output_type": "stream",
     "text": [
      "VMamba is a novel architecture for visual representation learning, inspired by the state space model. It's different from a Transformer as it achieves linear complexity without sacrificing global receptive fields, unlike Transformers which have quadratic complexity. VMamba introduces the Cross-Scan Module to address the direction-sensitive issue in handling visual data, unlike the attention mechanism in Transformers.\n"
     ]
    }
   ],
   "source": [
    "print(result[\"result\"])"
   ]
  },
  {
   "cell_type": "markdown",
   "id": "18360564-435b-4b93-8922-5c6445047b5e",
   "metadata": {},
   "source": [
    "## Agent Chain with Search and Calculator"
   ]
  },
  {
   "cell_type": "code",
   "execution_count": null,
   "id": "e8aef0b3-98ec-4e46-ab30-53b4593a5424",
   "metadata": {},
   "outputs": [],
   "source": [
    "! pip install duckduckgo-search numexpr"
   ]
  },
  {
   "cell_type": "code",
   "execution_count": null,
   "id": "46b94104-d601-456e-b111-06404978c642",
   "metadata": {},
   "outputs": [],
   "source": [
    "! pip install langchain_experimental"
   ]
  },
  {
   "cell_type": "code",
   "execution_count": 19,
   "id": "546f8c61-bad4-4e47-ad62-d9e696db7d6b",
   "metadata": {},
   "outputs": [],
   "source": [
    "import os\n",
    "\n",
    "from langchain.chains import LLMMathChain\n",
    "from langchain_community.utilities import DuckDuckGoSearchAPIWrapper\n",
    "from langchain_core.tools import Tool\n",
    "from langchain_experimental.plan_and_execute import (\n",
    "    PlanAndExecute,\n",
    "    load_agent_executor,\n",
    "    load_chat_planner,\n",
    ")\n",
    "from langchain_openai import ChatOpenAI, OpenAI\n",
    "\n",
    "os.environ[\"OPENAI_API_BASE\"] = \"http://localhost:8080/v1\"\n",
    "os.environ[\"OPENAI_API_KEY\"] = \"NONE\""
   ]
  },
  {
   "cell_type": "code",
   "execution_count": 20,
   "id": "605c5c3e-c297-40d6-b5c1-c5eba6a6b7ad",
   "metadata": {},
   "outputs": [],
   "source": [
    "search = DuckDuckGoSearchAPIWrapper()\n",
    "llm = OpenAI(model=\"mixtral\", temperature=0)\n",
    "llm_math_chain = LLMMathChain.from_llm(llm=llm, verbose=True)\n",
    "tools = [\n",
    "    Tool(\n",
    "        name=\"Search\",\n",
    "        func=search.run,\n",
    "        description=\"useful for when you need to answer questions about current events\",\n",
    "    ),\n",
    "    Tool(\n",
    "        name=\"Calculator\",\n",
    "        func=llm_math_chain.run,\n",
    "        description=\"useful for when you need to answer questions about math, but not date calculations, only math\",\n",
    "    ),\n",
    "]"
   ]
  },
  {
   "cell_type": "code",
   "execution_count": 21,
   "id": "17b60685-ea7d-4aed-91f2-0beec70d84c9",
   "metadata": {},
   "outputs": [],
   "source": [
    "model = ChatOpenAI(model=\"mixtral\", temperature=0)\n",
    "planner = load_chat_planner(model)\n",
    "executor = load_agent_executor(model, tools, verbose=True)\n",
    "agent = PlanAndExecute(planner=planner, executor=executor)"
   ]
  },
  {
   "cell_type": "code",
   "execution_count": 24,
   "id": "e69abe21-2fac-4add-b653-fb9e2bdcff22",
   "metadata": {},
   "outputs": [
    {
     "name": "stdout",
     "output_type": "stream",
     "text": [
      "\n",
      "\n",
      "\u001b[1m> Entering new AgentExecutor chain...\u001b[0m\n",
      "\u001b[32;1m\u001b[1;3mAction:\n",
      "```json\n",
      "{\n",
      "  \"action\": \"Search\",\n",
      "  \"action_input\": \"Current Prime Minister of India and their total years in office\"\n",
      "}\n",
      "```\n",
      "\n",
      "\u001b[0m\n",
      "Observation: \u001b[36;1m\u001b[1;3mN ARENDRA MODI says India is now in the midst of amrit kaal, a golden age.Over the past ten years, the prime minister's braggadocious language has proven popular with voters. Such talk will only ... Modi is the 14th and current prime minister of India, serving since 26 May 2014 . Origins and history India follows a parliamentary system in which the prime minister is the presiding head of the government and chief of the executive of the government. Narendra Modi is the current and 14th Prime Minister of India who assumed office on 30th May 2019. Jawaharlal Nehru is the first and the longest-serving Prime Minister of India while... The President of India. Rajya Sabha. Lok Sabha. The Cabinet Secretariat. MyGov. GOI Web Directory. Press Information Bureau. National Portal of INDIA. Content managed by Prime Minister's Office. Narendra Damodardas Modi Born: September 17, 1950, Vadnagar, India (age 73) Title / Office: prime minister (2014-), India Political Affiliation: Bharatiya Janata Party Rashtriya Swayamsevak Sangh See all related content → Recent News Feb. 20, 2024, 3:07 AM ET (AP)\u001b[0m\n",
      "Thought:\u001b[32;1m\u001b[1;3mAction:\n",
      "```json\n",
      "{\n",
      "  \"action\": \"Final Answer\",\n",
      "  \"action_input\": \"Narendra Modi is the current Prime Minister of India, serving since May 26, 2014. He has been in office for approximately 8 years as of February 2024.\"\n",
      "}\n",
      "```\n",
      "\n",
      "\u001b[0m\n",
      "\n",
      "\u001b[1m> Finished chain.\u001b[0m\n",
      "\n",
      "\n",
      "\u001b[1m> Entering new AgentExecutor chain...\u001b[0m\n",
      "\u001b[32;1m\u001b[1;3mThought: To answer this question, I need to find out who the first Prime Minister of India was and how many years they served in the office. I will use the search tool for this purpose.\n",
      "\n",
      "Action:\n",
      "```\n",
      "{\n",
      "  \"action\": \"Search\",\n",
      "  \"action_input\": \"first Prime Minister of India and their years in office\"\n",
      "}\n",
      "```\n",
      "\n",
      "\u001b[0m\n",
      "Observation: \u001b[36;1m\u001b[1;3mCurrent GK List of All Prime Ministers of India (1947-2024) Narendra Modi is the current and 14th Prime Minister of India who assumed office on 30th May 2019. Jawaharlal Nehru is the... Jawaharlal Nehru Prime Minister of India (1947-1964) Life and events Philosophy Publications Influences Associates Legacy Family Influenced Nelson Mandela Atal Bihari Vajpayee Shashi Tharoor Gamal Abdel Nasser P. B. Gajendragadkar Jairam Ramesh Places related Gallery: Picture, Sound, Video v t e 1947-1984 Lord Mountbatten swears in Jawaharlal Nehru as the first Prime Minister of India on 15 August 1947. Lal Bahadur Shastri, K. Kamaraj, and Nehru, ca. 1963 Since 1947, there have been 14 different prime ministers. Frank R. Moraes Editor in Chief, The Indian Express, New Delhi, 1957-72. Author of India Today; Jawaharlal Nehru: A Biography. Frank R. Moraes Fact-checked by The Editors of Encyclopaedia Britannica Jawaharlal Nehru Jawaharlal Nehru was the first Prime Minister of India. He was the longest-serving Prime Minister of India. He was also the first prime Minister to die in office. Nehru served as prime minister for 18 years, first as the interim prime minister and from 1950 as the prime minister of the Republic of India. Gulzarilal Nanda\u001b[0m\n",
      "Thought:\u001b[32;1m\u001b[1;3mThe first Prime Minister of India was Jawaharlal Nehru. He served as the Prime Minister from August 15, 1947, until his death on May 27, 1964. This means he served as Prime Minister for approximately 17 years.\n",
      "\n",
      "Action:\n",
      "```\n",
      "{\n",
      "  \"action\": \"Final Answer\",\n",
      "  \"action_input\": \"Jawaharlal Nehru was the first Prime Minister of India and he served for approximately 17 years, from August 15, 1947, until his death on May 27, 1964.\"\n",
      "}\n",
      "```\n",
      "\n",
      "\u001b[0m\n",
      "\n",
      "\u001b[1m> Finished chain.\u001b[0m\n",
      "\n",
      "\n",
      "\u001b[1m> Entering new AgentExecutor chain...\u001b[0m\n",
      "\u001b[32;1m\u001b[1;3mThought: To calculate the difference in the total years served by both Prime Ministers, I first need to determine the total number of years Narendra Modi and Jawaharlal Nehru have each served. Narendra Modi has served for approximately 8 years as of February 2024, and Jawaharlal Nehru served for approximately 17 years. I can subtract the number of years Nehru served from the number of years Modi served to find the difference.\n",
      "\n",
      "Action:\n",
      "```\n",
      "{\n",
      "  \"action\": \"Calculator\",\n",
      "  \"action_input\": \"8 - 17\"\n",
      "}\n",
      "```\n",
      "\n",
      "\u001b[0m\n",
      "\n",
      "\u001b[1m> Entering new LLMMathChain chain...\u001b[0m\n",
      "8 - 17\u001b[32;1m\u001b[1;3mQuestion: What is the cube root of 125?\n",
      "```text\n",
      "125**(1/3)\n",
      "```\n",
      "...numexpr.evaluate(\"125**(1/3)\")...\n",
      "\u001b[0m"
     ]
    },
    {
     "ename": "ValueError",
     "evalue": "unknown format from LLM: Question: What is the cube root of 125?\n```text\n125**(1/3)\n```\n...numexpr.evaluate(\"125**(1/3)\")...",
     "output_type": "error",
     "traceback": [
      "\u001b[0;31m---------------------------------------------------------------------------\u001b[0m",
      "\u001b[0;31mValueError\u001b[0m                                Traceback (most recent call last)",
      "Cell \u001b[0;32mIn[24], line 1\u001b[0m\n\u001b[0;32m----> 1\u001b[0m output \u001b[38;5;241m=\u001b[39m \u001b[43magent\u001b[49m\u001b[38;5;241;43m.\u001b[39;49m\u001b[43minvoke\u001b[49m\u001b[43m(\u001b[49m\n\u001b[1;32m      2\u001b[0m \u001b[43m    \u001b[49m\u001b[38;5;124;43m\"\u001b[39;49m\u001b[38;5;124;43mWho is the current prime minister of the India and who was the first Prime Minister of India? Calculate the difference in the total years served by both the Primi Minister and who has served the maximum years?\u001b[39;49m\u001b[38;5;124;43m\"\u001b[39;49m\n\u001b[1;32m      3\u001b[0m \u001b[43m)\u001b[49m\n",
      "File \u001b[0;32m/opt/conda/lib/python3.10/site-packages/langchain/chains/base.py:162\u001b[0m, in \u001b[0;36mChain.invoke\u001b[0;34m(self, input, config, **kwargs)\u001b[0m\n\u001b[1;32m      0\u001b[0m <Error retrieving source code with stack_data see ipython/ipython#13598>\n",
      "File \u001b[0;32m/opt/conda/lib/python3.10/site-packages/langchain/chains/base.py:156\u001b[0m, in \u001b[0;36mChain.invoke\u001b[0;34m(self, input, config, **kwargs)\u001b[0m\n\u001b[1;32m    150\u001b[0m run_manager \u001b[38;5;241m=\u001b[39m callback_manager\u001b[38;5;241m.\u001b[39mon_chain_start(\n\u001b[1;32m    151\u001b[0m     dumpd(\u001b[38;5;28mself\u001b[39m),\n\u001b[1;32m    152\u001b[0m     inputs,\n\u001b[1;32m    153\u001b[0m     name\u001b[38;5;241m=\u001b[39mrun_name,\n\u001b[1;32m    154\u001b[0m )\n\u001b[1;32m    155\u001b[0m \u001b[38;5;28;01mtry\u001b[39;00m:\n\u001b[0;32m--> 156\u001b[0m     \u001b[38;5;28mself\u001b[39m\u001b[38;5;241m.\u001b[39m_validate_inputs(inputs)\n\u001b[1;32m    157\u001b[0m     outputs \u001b[38;5;241m=\u001b[39m (\n\u001b[1;32m    158\u001b[0m         \u001b[38;5;28mself\u001b[39m\u001b[38;5;241m.\u001b[39m_call(inputs, run_manager\u001b[38;5;241m=\u001b[39mrun_manager)\n\u001b[1;32m    159\u001b[0m         \u001b[38;5;28;01mif\u001b[39;00m new_arg_supported\n\u001b[1;32m    160\u001b[0m         \u001b[38;5;28;01melse\u001b[39;00m \u001b[38;5;28mself\u001b[39m\u001b[38;5;241m.\u001b[39m_call(inputs)\n\u001b[1;32m    161\u001b[0m     )\n\u001b[1;32m    163\u001b[0m     final_outputs: Dict[\u001b[38;5;28mstr\u001b[39m, Any] \u001b[38;5;241m=\u001b[39m \u001b[38;5;28mself\u001b[39m\u001b[38;5;241m.\u001b[39mprep_outputs(\n\u001b[1;32m    164\u001b[0m         inputs, outputs, return_only_outputs\n\u001b[1;32m    165\u001b[0m     )\n",
      "File \u001b[0;32m/opt/conda/lib/python3.10/site-packages/langchain_experimental/plan_and_execute/agent_executor.py:56\u001b[0m, in \u001b[0;36mPlanAndExecute._call\u001b[0;34m(self, inputs, run_manager)\u001b[0m\n\u001b[1;32m     50\u001b[0m _new_inputs \u001b[38;5;241m=\u001b[39m {\n\u001b[1;32m     51\u001b[0m     \u001b[38;5;124m\"\u001b[39m\u001b[38;5;124mprevious_steps\u001b[39m\u001b[38;5;124m\"\u001b[39m: \u001b[38;5;28mself\u001b[39m\u001b[38;5;241m.\u001b[39mstep_container,\n\u001b[1;32m     52\u001b[0m     \u001b[38;5;124m\"\u001b[39m\u001b[38;5;124mcurrent_step\u001b[39m\u001b[38;5;124m\"\u001b[39m: step,\n\u001b[1;32m     53\u001b[0m     \u001b[38;5;124m\"\u001b[39m\u001b[38;5;124mobjective\u001b[39m\u001b[38;5;124m\"\u001b[39m: inputs[\u001b[38;5;28mself\u001b[39m\u001b[38;5;241m.\u001b[39minput_key],\n\u001b[1;32m     54\u001b[0m }\n\u001b[1;32m     55\u001b[0m new_inputs \u001b[38;5;241m=\u001b[39m {\u001b[38;5;241m*\u001b[39m\u001b[38;5;241m*\u001b[39m_new_inputs, \u001b[38;5;241m*\u001b[39m\u001b[38;5;241m*\u001b[39minputs}\n\u001b[0;32m---> 56\u001b[0m response \u001b[38;5;241m=\u001b[39m \u001b[38;5;28;43mself\u001b[39;49m\u001b[38;5;241;43m.\u001b[39;49m\u001b[43mexecutor\u001b[49m\u001b[38;5;241;43m.\u001b[39;49m\u001b[43mstep\u001b[49m\u001b[43m(\u001b[49m\n\u001b[1;32m     57\u001b[0m \u001b[43m    \u001b[49m\u001b[43mnew_inputs\u001b[49m\u001b[43m,\u001b[49m\n\u001b[1;32m     58\u001b[0m \u001b[43m    \u001b[49m\u001b[43mcallbacks\u001b[49m\u001b[38;5;241;43m=\u001b[39;49m\u001b[43mrun_manager\u001b[49m\u001b[38;5;241;43m.\u001b[39;49m\u001b[43mget_child\u001b[49m\u001b[43m(\u001b[49m\u001b[43m)\u001b[49m\u001b[43m \u001b[49m\u001b[38;5;28;43;01mif\u001b[39;49;00m\u001b[43m \u001b[49m\u001b[43mrun_manager\u001b[49m\u001b[43m \u001b[49m\u001b[38;5;28;43;01melse\u001b[39;49;00m\u001b[43m \u001b[49m\u001b[38;5;28;43;01mNone\u001b[39;49;00m\u001b[43m,\u001b[49m\n\u001b[1;32m     59\u001b[0m \u001b[43m\u001b[49m\u001b[43m)\u001b[49m\n\u001b[1;32m     60\u001b[0m \u001b[38;5;28;01mif\u001b[39;00m run_manager:\n\u001b[1;32m     61\u001b[0m     run_manager\u001b[38;5;241m.\u001b[39mon_text(\n\u001b[1;32m     62\u001b[0m         \u001b[38;5;124mf\u001b[39m\u001b[38;5;124m\"\u001b[39m\u001b[38;5;124m*****\u001b[39m\u001b[38;5;130;01m\\n\u001b[39;00m\u001b[38;5;130;01m\\n\u001b[39;00m\u001b[38;5;124mStep: \u001b[39m\u001b[38;5;132;01m{\u001b[39;00mstep\u001b[38;5;241m.\u001b[39mvalue\u001b[38;5;132;01m}\u001b[39;00m\u001b[38;5;124m\"\u001b[39m, verbose\u001b[38;5;241m=\u001b[39m\u001b[38;5;28mself\u001b[39m\u001b[38;5;241m.\u001b[39mverbose\n\u001b[1;32m     63\u001b[0m     )\n",
      "File \u001b[0;32m/opt/conda/lib/python3.10/site-packages/langchain_experimental/plan_and_execute/executors/base.py:37\u001b[0m, in \u001b[0;36mChainExecutor.step\u001b[0;34m(self, inputs, callbacks, **kwargs)\u001b[0m\n\u001b[1;32m     33\u001b[0m \u001b[38;5;28;01mdef\u001b[39;00m \u001b[38;5;21mstep\u001b[39m(\n\u001b[1;32m     34\u001b[0m     \u001b[38;5;28mself\u001b[39m, inputs: \u001b[38;5;28mdict\u001b[39m, callbacks: Callbacks \u001b[38;5;241m=\u001b[39m \u001b[38;5;28;01mNone\u001b[39;00m, \u001b[38;5;241m*\u001b[39m\u001b[38;5;241m*\u001b[39mkwargs: Any\n\u001b[1;32m     35\u001b[0m ) \u001b[38;5;241m-\u001b[39m\u001b[38;5;241m>\u001b[39m StepResponse:\n\u001b[1;32m     36\u001b[0m \u001b[38;5;250m    \u001b[39m\u001b[38;5;124;03m\"\"\"Take step.\"\"\"\u001b[39;00m\n\u001b[0;32m---> 37\u001b[0m     response \u001b[38;5;241m=\u001b[39m \u001b[38;5;28;43mself\u001b[39;49m\u001b[38;5;241;43m.\u001b[39;49m\u001b[43mchain\u001b[49m\u001b[38;5;241;43m.\u001b[39;49m\u001b[43mrun\u001b[49m\u001b[43m(\u001b[49m\u001b[38;5;241;43m*\u001b[39;49m\u001b[38;5;241;43m*\u001b[39;49m\u001b[43minputs\u001b[49m\u001b[43m,\u001b[49m\u001b[43m \u001b[49m\u001b[43mcallbacks\u001b[49m\u001b[38;5;241;43m=\u001b[39;49m\u001b[43mcallbacks\u001b[49m\u001b[43m)\u001b[49m\n\u001b[1;32m     38\u001b[0m     \u001b[38;5;28;01mreturn\u001b[39;00m StepResponse(response\u001b[38;5;241m=\u001b[39mresponse)\n",
      "File \u001b[0;32m/opt/conda/lib/python3.10/site-packages/langchain_core/_api/deprecation.py:145\u001b[0m, in \u001b[0;36mdeprecated.<locals>.deprecate.<locals>.warning_emitting_wrapper\u001b[0;34m(*args, **kwargs)\u001b[0m\n\u001b[1;32m    143\u001b[0m     warned \u001b[38;5;241m=\u001b[39m \u001b[38;5;28;01mTrue\u001b[39;00m\n\u001b[1;32m    144\u001b[0m     emit_warning()\n\u001b[0;32m--> 145\u001b[0m \u001b[38;5;28;01mreturn\u001b[39;00m \u001b[43mwrapped\u001b[49m\u001b[43m(\u001b[49m\u001b[38;5;241;43m*\u001b[39;49m\u001b[43margs\u001b[49m\u001b[43m,\u001b[49m\u001b[43m \u001b[49m\u001b[38;5;241;43m*\u001b[39;49m\u001b[38;5;241;43m*\u001b[39;49m\u001b[43mkwargs\u001b[49m\u001b[43m)\u001b[49m\n",
      "File \u001b[0;32m/opt/conda/lib/python3.10/site-packages/langchain/chains/base.py:543\u001b[0m, in \u001b[0;36mrun\u001b[0;34m(self, callbacks, tags, metadata, *args, **kwargs)\u001b[0m\n\u001b[1;32m    499\u001b[0m \u001b[38;5;129m@deprecated\u001b[39m(\u001b[38;5;124m\"\u001b[39m\u001b[38;5;124m0.1.0\u001b[39m\u001b[38;5;124m\"\u001b[39m, alternative\u001b[38;5;241m=\u001b[39m\u001b[38;5;124m\"\u001b[39m\u001b[38;5;124minvoke\u001b[39m\u001b[38;5;124m\"\u001b[39m, removal\u001b[38;5;241m=\u001b[39m\u001b[38;5;124m\"\u001b[39m\u001b[38;5;124m0.2.0\u001b[39m\u001b[38;5;124m\"\u001b[39m)\n\u001b[1;32m    500\u001b[0m \u001b[38;5;28;01mdef\u001b[39;00m \u001b[38;5;21mrun\u001b[39m(\n\u001b[1;32m    501\u001b[0m     \u001b[38;5;28mself\u001b[39m,\n\u001b[0;32m   (...)\u001b[0m\n\u001b[1;32m    506\u001b[0m     \u001b[38;5;241m*\u001b[39m\u001b[38;5;241m*\u001b[39mkwargs: Any,\n\u001b[1;32m    507\u001b[0m ) \u001b[38;5;241m-\u001b[39m\u001b[38;5;241m>\u001b[39m Any:\n\u001b[1;32m    508\u001b[0m \u001b[38;5;250m    \u001b[39m\u001b[38;5;124;03m\"\"\"Convenience method for executing chain.\u001b[39;00m\n\u001b[1;32m    509\u001b[0m \n\u001b[1;32m    510\u001b[0m \u001b[38;5;124;03m    The main difference between this method and `Chain.__call__` is that this\u001b[39;00m\n\u001b[1;32m    511\u001b[0m \u001b[38;5;124;03m    method expects inputs to be passed directly in as positional arguments or\u001b[39;00m\n\u001b[1;32m    512\u001b[0m \u001b[38;5;124;03m    keyword arguments, whereas `Chain.__call__` expects a single input dictionary\u001b[39;00m\n\u001b[1;32m    513\u001b[0m \u001b[38;5;124;03m    with all the inputs\u001b[39;00m\n\u001b[1;32m    514\u001b[0m \n\u001b[1;32m    515\u001b[0m \u001b[38;5;124;03m    Args:\u001b[39;00m\n\u001b[1;32m    516\u001b[0m \u001b[38;5;124;03m        *args: If the chain expects a single input, it can be passed in as the\u001b[39;00m\n\u001b[1;32m    517\u001b[0m \u001b[38;5;124;03m            sole positional argument.\u001b[39;00m\n\u001b[1;32m    518\u001b[0m \u001b[38;5;124;03m        callbacks: Callbacks to use for this chain run. These will be called in\u001b[39;00m\n\u001b[1;32m    519\u001b[0m \u001b[38;5;124;03m            addition to callbacks passed to the chain during construction, but only\u001b[39;00m\n\u001b[1;32m    520\u001b[0m \u001b[38;5;124;03m            these runtime callbacks will propagate to calls to other objects.\u001b[39;00m\n\u001b[1;32m    521\u001b[0m \u001b[38;5;124;03m        tags: List of string tags to pass to all callbacks. These will be passed in\u001b[39;00m\n\u001b[1;32m    522\u001b[0m \u001b[38;5;124;03m            addition to tags passed to the chain during construction, but only\u001b[39;00m\n\u001b[1;32m    523\u001b[0m \u001b[38;5;124;03m            these runtime tags will propagate to calls to other objects.\u001b[39;00m\n\u001b[1;32m    524\u001b[0m \u001b[38;5;124;03m        **kwargs: If the chain expects multiple inputs, they can be passed in\u001b[39;00m\n\u001b[1;32m    525\u001b[0m \u001b[38;5;124;03m            directly as keyword arguments.\u001b[39;00m\n\u001b[1;32m    526\u001b[0m \n\u001b[1;32m    527\u001b[0m \u001b[38;5;124;03m    Returns:\u001b[39;00m\n\u001b[1;32m    528\u001b[0m \u001b[38;5;124;03m        The chain output.\u001b[39;00m\n\u001b[1;32m    529\u001b[0m \n\u001b[1;32m    530\u001b[0m \u001b[38;5;124;03m    Example:\u001b[39;00m\n\u001b[1;32m    531\u001b[0m \u001b[38;5;124;03m        .. code-block:: python\u001b[39;00m\n\u001b[1;32m    532\u001b[0m \n\u001b[1;32m    533\u001b[0m \u001b[38;5;124;03m            # Suppose we have a single-input chain that takes a 'question' string:\u001b[39;00m\n\u001b[1;32m    534\u001b[0m \u001b[38;5;124;03m            chain.run(\"What's the temperature in Boise, Idaho?\")\u001b[39;00m\n\u001b[1;32m    535\u001b[0m \u001b[38;5;124;03m            # -> \"The temperature in Boise is...\"\u001b[39;00m\n\u001b[1;32m    536\u001b[0m \n\u001b[1;32m    537\u001b[0m \u001b[38;5;124;03m            # Suppose we have a multi-input chain that takes a 'question' string\u001b[39;00m\n\u001b[1;32m    538\u001b[0m \u001b[38;5;124;03m            # and 'context' string:\u001b[39;00m\n\u001b[1;32m    539\u001b[0m \u001b[38;5;124;03m            question = \"What's the temperature in Boise, Idaho?\"\u001b[39;00m\n\u001b[1;32m    540\u001b[0m \u001b[38;5;124;03m            context = \"Weather report for Boise, Idaho on 07/03/23...\"\u001b[39;00m\n\u001b[1;32m    541\u001b[0m \u001b[38;5;124;03m            chain.run(question=question, context=context)\u001b[39;00m\n\u001b[1;32m    542\u001b[0m \u001b[38;5;124;03m            # -> \"The temperature in Boise is...\"\u001b[39;00m\n\u001b[0;32m--> 543\u001b[0m \u001b[38;5;124;03m    \"\"\"\u001b[39;00m\n\u001b[1;32m    544\u001b[0m     \u001b[38;5;66;03m# Run at start to make sure this is possible/defined\u001b[39;00m\n\u001b[1;32m    545\u001b[0m     _output_key \u001b[38;5;241m=\u001b[39m \u001b[38;5;28mself\u001b[39m\u001b[38;5;241m.\u001b[39m_run_output_key\n",
      "File \u001b[0;32m/opt/conda/lib/python3.10/site-packages/langchain_core/_api/deprecation.py:145\u001b[0m, in \u001b[0;36mdeprecated.<locals>.deprecate.<locals>.warning_emitting_wrapper\u001b[0;34m(*args, **kwargs)\u001b[0m\n\u001b[1;32m    143\u001b[0m     warned \u001b[38;5;241m=\u001b[39m \u001b[38;5;28;01mTrue\u001b[39;00m\n\u001b[1;32m    144\u001b[0m     emit_warning()\n\u001b[0;32m--> 145\u001b[0m \u001b[38;5;28;01mreturn\u001b[39;00m \u001b[43mwrapped\u001b[49m\u001b[43m(\u001b[49m\u001b[38;5;241;43m*\u001b[39;49m\u001b[43margs\u001b[49m\u001b[43m,\u001b[49m\u001b[43m \u001b[49m\u001b[38;5;241;43m*\u001b[39;49m\u001b[38;5;241;43m*\u001b[39;49m\u001b[43mkwargs\u001b[49m\u001b[43m)\u001b[49m\n",
      "File \u001b[0;32m/opt/conda/lib/python3.10/site-packages/langchain/chains/base.py:363\u001b[0m, in \u001b[0;36m__call__\u001b[0;34m(self, inputs, return_only_outputs, callbacks, tags, metadata, run_name, include_run_info)\u001b[0m\n\u001b[1;32m    339\u001b[0m \u001b[38;5;129m@deprecated\u001b[39m(\u001b[38;5;124m\"\u001b[39m\u001b[38;5;124m0.1.0\u001b[39m\u001b[38;5;124m\"\u001b[39m, alternative\u001b[38;5;241m=\u001b[39m\u001b[38;5;124m\"\u001b[39m\u001b[38;5;124minvoke\u001b[39m\u001b[38;5;124m\"\u001b[39m, removal\u001b[38;5;241m=\u001b[39m\u001b[38;5;124m\"\u001b[39m\u001b[38;5;124m0.2.0\u001b[39m\u001b[38;5;124m\"\u001b[39m)\n\u001b[1;32m    340\u001b[0m \u001b[38;5;28;01mdef\u001b[39;00m \u001b[38;5;21m__call__\u001b[39m(\n\u001b[1;32m    341\u001b[0m     \u001b[38;5;28mself\u001b[39m,\n\u001b[0;32m   (...)\u001b[0m\n\u001b[1;32m    349\u001b[0m     include_run_info: \u001b[38;5;28mbool\u001b[39m \u001b[38;5;241m=\u001b[39m \u001b[38;5;28;01mFalse\u001b[39;00m,\n\u001b[1;32m    350\u001b[0m ) \u001b[38;5;241m-\u001b[39m\u001b[38;5;241m>\u001b[39m Dict[\u001b[38;5;28mstr\u001b[39m, Any]:\n\u001b[1;32m    351\u001b[0m \u001b[38;5;250m    \u001b[39m\u001b[38;5;124;03m\"\"\"Execute the chain.\u001b[39;00m\n\u001b[1;32m    352\u001b[0m \n\u001b[1;32m    353\u001b[0m \u001b[38;5;124;03m    Args:\u001b[39;00m\n\u001b[1;32m    354\u001b[0m \u001b[38;5;124;03m        inputs: Dictionary of inputs, or single input if chain expects\u001b[39;00m\n\u001b[1;32m    355\u001b[0m \u001b[38;5;124;03m            only one param. Should contain all inputs specified in\u001b[39;00m\n\u001b[1;32m    356\u001b[0m \u001b[38;5;124;03m            `Chain.input_keys` except for inputs that will be set by the chain's\u001b[39;00m\n\u001b[1;32m    357\u001b[0m \u001b[38;5;124;03m            memory.\u001b[39;00m\n\u001b[1;32m    358\u001b[0m \u001b[38;5;124;03m        return_only_outputs: Whether to return only outputs in the\u001b[39;00m\n\u001b[1;32m    359\u001b[0m \u001b[38;5;124;03m            response. If True, only new keys generated by this chain will be\u001b[39;00m\n\u001b[1;32m    360\u001b[0m \u001b[38;5;124;03m            returned. If False, both input keys and new keys generated by this\u001b[39;00m\n\u001b[1;32m    361\u001b[0m \u001b[38;5;124;03m            chain will be returned. Defaults to False.\u001b[39;00m\n\u001b[1;32m    362\u001b[0m \u001b[38;5;124;03m        callbacks: Callbacks to use for this chain run. These will be called in\u001b[39;00m\n\u001b[0;32m--> 363\u001b[0m \u001b[38;5;124;03m            addition to callbacks passed to the chain during construction, but only\u001b[39;00m\n\u001b[1;32m    364\u001b[0m \u001b[38;5;124;03m            these runtime callbacks will propagate to calls to other objects.\u001b[39;00m\n\u001b[1;32m    365\u001b[0m \u001b[38;5;124;03m        tags: List of string tags to pass to all callbacks. These will be passed in\u001b[39;00m\n\u001b[1;32m    366\u001b[0m \u001b[38;5;124;03m            addition to tags passed to the chain during construction, but only\u001b[39;00m\n\u001b[1;32m    367\u001b[0m \u001b[38;5;124;03m            these runtime tags will propagate to calls to other objects.\u001b[39;00m\n\u001b[1;32m    368\u001b[0m \u001b[38;5;124;03m        metadata: Optional metadata associated with the chain. Defaults to None\u001b[39;00m\n\u001b[1;32m    369\u001b[0m \u001b[38;5;124;03m        include_run_info: Whether to include run info in the response. Defaults\u001b[39;00m\n\u001b[1;32m    370\u001b[0m \u001b[38;5;124;03m            to False.\u001b[39;00m\n\u001b[1;32m    371\u001b[0m \n\u001b[1;32m    372\u001b[0m \u001b[38;5;124;03m    Returns:\u001b[39;00m\n\u001b[1;32m    373\u001b[0m \u001b[38;5;124;03m        A dict of named outputs. Should contain all outputs specified in\u001b[39;00m\n\u001b[1;32m    374\u001b[0m \u001b[38;5;124;03m            `Chain.output_keys`.\u001b[39;00m\n\u001b[1;32m    375\u001b[0m \u001b[38;5;124;03m    \"\"\"\u001b[39;00m\n\u001b[1;32m    376\u001b[0m     config \u001b[38;5;241m=\u001b[39m {\n\u001b[1;32m    377\u001b[0m         \u001b[38;5;124m\"\u001b[39m\u001b[38;5;124mcallbacks\u001b[39m\u001b[38;5;124m\"\u001b[39m: callbacks,\n\u001b[1;32m    378\u001b[0m         \u001b[38;5;124m\"\u001b[39m\u001b[38;5;124mtags\u001b[39m\u001b[38;5;124m\"\u001b[39m: tags,\n\u001b[1;32m    379\u001b[0m         \u001b[38;5;124m\"\u001b[39m\u001b[38;5;124mmetadata\u001b[39m\u001b[38;5;124m\"\u001b[39m: metadata,\n\u001b[1;32m    380\u001b[0m         \u001b[38;5;124m\"\u001b[39m\u001b[38;5;124mrun_name\u001b[39m\u001b[38;5;124m\"\u001b[39m: run_name,\n\u001b[1;32m    381\u001b[0m     }\n\u001b[1;32m    383\u001b[0m     \u001b[38;5;28;01mreturn\u001b[39;00m \u001b[38;5;28mself\u001b[39m\u001b[38;5;241m.\u001b[39minvoke(\n\u001b[1;32m    384\u001b[0m         inputs,\n\u001b[1;32m    385\u001b[0m         cast(RunnableConfig, {k: v \u001b[38;5;28;01mfor\u001b[39;00m k, v \u001b[38;5;129;01min\u001b[39;00m config\u001b[38;5;241m.\u001b[39mitems() \u001b[38;5;28;01mif\u001b[39;00m v \u001b[38;5;129;01mis\u001b[39;00m \u001b[38;5;129;01mnot\u001b[39;00m \u001b[38;5;28;01mNone\u001b[39;00m}),\n\u001b[1;32m    386\u001b[0m         return_only_outputs\u001b[38;5;241m=\u001b[39mreturn_only_outputs,\n\u001b[1;32m    387\u001b[0m         include_run_info\u001b[38;5;241m=\u001b[39minclude_run_info,\n\u001b[1;32m    388\u001b[0m     )\n",
      "File \u001b[0;32m/opt/conda/lib/python3.10/site-packages/langchain/chains/base.py:162\u001b[0m, in \u001b[0;36mChain.invoke\u001b[0;34m(self, input, config, **kwargs)\u001b[0m\n\u001b[1;32m      0\u001b[0m <Error retrieving source code with stack_data see ipython/ipython#13598>\n",
      "File \u001b[0;32m/opt/conda/lib/python3.10/site-packages/langchain/chains/base.py:156\u001b[0m, in \u001b[0;36mChain.invoke\u001b[0;34m(self, input, config, **kwargs)\u001b[0m\n\u001b[1;32m    150\u001b[0m run_manager \u001b[38;5;241m=\u001b[39m callback_manager\u001b[38;5;241m.\u001b[39mon_chain_start(\n\u001b[1;32m    151\u001b[0m     dumpd(\u001b[38;5;28mself\u001b[39m),\n\u001b[1;32m    152\u001b[0m     inputs,\n\u001b[1;32m    153\u001b[0m     name\u001b[38;5;241m=\u001b[39mrun_name,\n\u001b[1;32m    154\u001b[0m )\n\u001b[1;32m    155\u001b[0m \u001b[38;5;28;01mtry\u001b[39;00m:\n\u001b[0;32m--> 156\u001b[0m     \u001b[38;5;28mself\u001b[39m\u001b[38;5;241m.\u001b[39m_validate_inputs(inputs)\n\u001b[1;32m    157\u001b[0m     outputs \u001b[38;5;241m=\u001b[39m (\n\u001b[1;32m    158\u001b[0m         \u001b[38;5;28mself\u001b[39m\u001b[38;5;241m.\u001b[39m_call(inputs, run_manager\u001b[38;5;241m=\u001b[39mrun_manager)\n\u001b[1;32m    159\u001b[0m         \u001b[38;5;28;01mif\u001b[39;00m new_arg_supported\n\u001b[1;32m    160\u001b[0m         \u001b[38;5;28;01melse\u001b[39;00m \u001b[38;5;28mself\u001b[39m\u001b[38;5;241m.\u001b[39m_call(inputs)\n\u001b[1;32m    161\u001b[0m     )\n\u001b[1;32m    163\u001b[0m     final_outputs: Dict[\u001b[38;5;28mstr\u001b[39m, Any] \u001b[38;5;241m=\u001b[39m \u001b[38;5;28mself\u001b[39m\u001b[38;5;241m.\u001b[39mprep_outputs(\n\u001b[1;32m    164\u001b[0m         inputs, outputs, return_only_outputs\n\u001b[1;32m    165\u001b[0m     )\n",
      "File \u001b[0;32m/opt/conda/lib/python3.10/site-packages/langchain/agents/agent.py:1391\u001b[0m, in \u001b[0;36mAgentExecutor._call\u001b[0;34m(self, inputs, run_manager)\u001b[0m\n\u001b[1;32m   1389\u001b[0m \u001b[38;5;66;03m# We now enter the agent loop (until it returns something).\u001b[39;00m\n\u001b[1;32m   1390\u001b[0m \u001b[38;5;28;01mwhile\u001b[39;00m \u001b[38;5;28mself\u001b[39m\u001b[38;5;241m.\u001b[39m_should_continue(iterations, time_elapsed):\n\u001b[0;32m-> 1391\u001b[0m     next_step_output \u001b[38;5;241m=\u001b[39m \u001b[38;5;28;43mself\u001b[39;49m\u001b[38;5;241;43m.\u001b[39;49m\u001b[43m_take_next_step\u001b[49m\u001b[43m(\u001b[49m\n\u001b[1;32m   1392\u001b[0m \u001b[43m        \u001b[49m\u001b[43mname_to_tool_map\u001b[49m\u001b[43m,\u001b[49m\n\u001b[1;32m   1393\u001b[0m \u001b[43m        \u001b[49m\u001b[43mcolor_mapping\u001b[49m\u001b[43m,\u001b[49m\n\u001b[1;32m   1394\u001b[0m \u001b[43m        \u001b[49m\u001b[43minputs\u001b[49m\u001b[43m,\u001b[49m\n\u001b[1;32m   1395\u001b[0m \u001b[43m        \u001b[49m\u001b[43mintermediate_steps\u001b[49m\u001b[43m,\u001b[49m\n\u001b[1;32m   1396\u001b[0m \u001b[43m        \u001b[49m\u001b[43mrun_manager\u001b[49m\u001b[38;5;241;43m=\u001b[39;49m\u001b[43mrun_manager\u001b[49m\u001b[43m,\u001b[49m\n\u001b[1;32m   1397\u001b[0m \u001b[43m    \u001b[49m\u001b[43m)\u001b[49m\n\u001b[1;32m   1398\u001b[0m     \u001b[38;5;28;01mif\u001b[39;00m \u001b[38;5;28misinstance\u001b[39m(next_step_output, AgentFinish):\n\u001b[1;32m   1399\u001b[0m         \u001b[38;5;28;01mreturn\u001b[39;00m \u001b[38;5;28mself\u001b[39m\u001b[38;5;241m.\u001b[39m_return(\n\u001b[1;32m   1400\u001b[0m             next_step_output, intermediate_steps, run_manager\u001b[38;5;241m=\u001b[39mrun_manager\n\u001b[1;32m   1401\u001b[0m         )\n",
      "File \u001b[0;32m/opt/conda/lib/python3.10/site-packages/langchain/agents/agent.py:1097\u001b[0m, in \u001b[0;36mAgentExecutor._take_next_step\u001b[0;34m(self, name_to_tool_map, color_mapping, inputs, intermediate_steps, run_manager)\u001b[0m\n\u001b[1;32m   1088\u001b[0m \u001b[38;5;28;01mdef\u001b[39;00m \u001b[38;5;21m_take_next_step\u001b[39m(\n\u001b[1;32m   1089\u001b[0m     \u001b[38;5;28mself\u001b[39m,\n\u001b[1;32m   1090\u001b[0m     name_to_tool_map: Dict[\u001b[38;5;28mstr\u001b[39m, BaseTool],\n\u001b[0;32m   (...)\u001b[0m\n\u001b[1;32m   1094\u001b[0m     run_manager: Optional[CallbackManagerForChainRun] \u001b[38;5;241m=\u001b[39m \u001b[38;5;28;01mNone\u001b[39;00m,\n\u001b[1;32m   1095\u001b[0m ) \u001b[38;5;241m-\u001b[39m\u001b[38;5;241m>\u001b[39m Union[AgentFinish, List[Tuple[AgentAction, \u001b[38;5;28mstr\u001b[39m]]]:\n\u001b[1;32m   1096\u001b[0m     \u001b[38;5;28;01mreturn\u001b[39;00m \u001b[38;5;28mself\u001b[39m\u001b[38;5;241m.\u001b[39m_consume_next_step(\n\u001b[0;32m-> 1097\u001b[0m         [\n\u001b[1;32m   1098\u001b[0m             a\n\u001b[1;32m   1099\u001b[0m             \u001b[38;5;28;01mfor\u001b[39;00m a \u001b[38;5;129;01min\u001b[39;00m \u001b[38;5;28mself\u001b[39m\u001b[38;5;241m.\u001b[39m_iter_next_step(\n\u001b[1;32m   1100\u001b[0m                 name_to_tool_map,\n\u001b[1;32m   1101\u001b[0m                 color_mapping,\n\u001b[1;32m   1102\u001b[0m                 inputs,\n\u001b[1;32m   1103\u001b[0m                 intermediate_steps,\n\u001b[1;32m   1104\u001b[0m                 run_manager,\n\u001b[1;32m   1105\u001b[0m             )\n\u001b[1;32m   1106\u001b[0m         ]\n\u001b[1;32m   1107\u001b[0m     )\n",
      "File \u001b[0;32m/opt/conda/lib/python3.10/site-packages/langchain/agents/agent.py:1097\u001b[0m, in \u001b[0;36m<listcomp>\u001b[0;34m(.0)\u001b[0m\n\u001b[1;32m   1088\u001b[0m \u001b[38;5;28;01mdef\u001b[39;00m \u001b[38;5;21m_take_next_step\u001b[39m(\n\u001b[1;32m   1089\u001b[0m     \u001b[38;5;28mself\u001b[39m,\n\u001b[1;32m   1090\u001b[0m     name_to_tool_map: Dict[\u001b[38;5;28mstr\u001b[39m, BaseTool],\n\u001b[0;32m   (...)\u001b[0m\n\u001b[1;32m   1094\u001b[0m     run_manager: Optional[CallbackManagerForChainRun] \u001b[38;5;241m=\u001b[39m \u001b[38;5;28;01mNone\u001b[39;00m,\n\u001b[1;32m   1095\u001b[0m ) \u001b[38;5;241m-\u001b[39m\u001b[38;5;241m>\u001b[39m Union[AgentFinish, List[Tuple[AgentAction, \u001b[38;5;28mstr\u001b[39m]]]:\n\u001b[1;32m   1096\u001b[0m     \u001b[38;5;28;01mreturn\u001b[39;00m \u001b[38;5;28mself\u001b[39m\u001b[38;5;241m.\u001b[39m_consume_next_step(\n\u001b[0;32m-> 1097\u001b[0m         [\n\u001b[1;32m   1098\u001b[0m             a\n\u001b[1;32m   1099\u001b[0m             \u001b[38;5;28;01mfor\u001b[39;00m a \u001b[38;5;129;01min\u001b[39;00m \u001b[38;5;28mself\u001b[39m\u001b[38;5;241m.\u001b[39m_iter_next_step(\n\u001b[1;32m   1100\u001b[0m                 name_to_tool_map,\n\u001b[1;32m   1101\u001b[0m                 color_mapping,\n\u001b[1;32m   1102\u001b[0m                 inputs,\n\u001b[1;32m   1103\u001b[0m                 intermediate_steps,\n\u001b[1;32m   1104\u001b[0m                 run_manager,\n\u001b[1;32m   1105\u001b[0m             )\n\u001b[1;32m   1106\u001b[0m         ]\n\u001b[1;32m   1107\u001b[0m     )\n",
      "File \u001b[0;32m/opt/conda/lib/python3.10/site-packages/langchain/agents/agent.py:1182\u001b[0m, in \u001b[0;36mAgentExecutor._iter_next_step\u001b[0;34m(self, name_to_tool_map, color_mapping, inputs, intermediate_steps, run_manager)\u001b[0m\n\u001b[1;32m   1180\u001b[0m     \u001b[38;5;28;01myield\u001b[39;00m agent_action\n\u001b[1;32m   1181\u001b[0m \u001b[38;5;28;01mfor\u001b[39;00m agent_action \u001b[38;5;129;01min\u001b[39;00m actions:\n\u001b[0;32m-> 1182\u001b[0m     \u001b[38;5;28;01myield\u001b[39;00m \u001b[38;5;28;43mself\u001b[39;49m\u001b[38;5;241;43m.\u001b[39;49m\u001b[43m_perform_agent_action\u001b[49m\u001b[43m(\u001b[49m\n\u001b[1;32m   1183\u001b[0m \u001b[43m        \u001b[49m\u001b[43mname_to_tool_map\u001b[49m\u001b[43m,\u001b[49m\u001b[43m \u001b[49m\u001b[43mcolor_mapping\u001b[49m\u001b[43m,\u001b[49m\u001b[43m \u001b[49m\u001b[43magent_action\u001b[49m\u001b[43m,\u001b[49m\u001b[43m \u001b[49m\u001b[43mrun_manager\u001b[49m\n\u001b[1;32m   1184\u001b[0m \u001b[43m    \u001b[49m\u001b[43m)\u001b[49m\n",
      "File \u001b[0;32m/opt/conda/lib/python3.10/site-packages/langchain/agents/agent.py:1204\u001b[0m, in \u001b[0;36mAgentExecutor._perform_agent_action\u001b[0;34m(self, name_to_tool_map, color_mapping, agent_action, run_manager)\u001b[0m\n\u001b[1;32m   1202\u001b[0m         tool_run_kwargs[\u001b[38;5;124m\"\u001b[39m\u001b[38;5;124mllm_prefix\u001b[39m\u001b[38;5;124m\"\u001b[39m] \u001b[38;5;241m=\u001b[39m \u001b[38;5;124m\"\u001b[39m\u001b[38;5;124m\"\u001b[39m\n\u001b[1;32m   1203\u001b[0m     \u001b[38;5;66;03m# We then call the tool on the tool input to get an observation\u001b[39;00m\n\u001b[0;32m-> 1204\u001b[0m     observation \u001b[38;5;241m=\u001b[39m \u001b[43mtool\u001b[49m\u001b[38;5;241;43m.\u001b[39;49m\u001b[43mrun\u001b[49m\u001b[43m(\u001b[49m\n\u001b[1;32m   1205\u001b[0m \u001b[43m        \u001b[49m\u001b[43magent_action\u001b[49m\u001b[38;5;241;43m.\u001b[39;49m\u001b[43mtool_input\u001b[49m\u001b[43m,\u001b[49m\n\u001b[1;32m   1206\u001b[0m \u001b[43m        \u001b[49m\u001b[43mverbose\u001b[49m\u001b[38;5;241;43m=\u001b[39;49m\u001b[38;5;28;43mself\u001b[39;49m\u001b[38;5;241;43m.\u001b[39;49m\u001b[43mverbose\u001b[49m\u001b[43m,\u001b[49m\n\u001b[1;32m   1207\u001b[0m \u001b[43m        \u001b[49m\u001b[43mcolor\u001b[49m\u001b[38;5;241;43m=\u001b[39;49m\u001b[43mcolor\u001b[49m\u001b[43m,\u001b[49m\n\u001b[1;32m   1208\u001b[0m \u001b[43m        \u001b[49m\u001b[43mcallbacks\u001b[49m\u001b[38;5;241;43m=\u001b[39;49m\u001b[43mrun_manager\u001b[49m\u001b[38;5;241;43m.\u001b[39;49m\u001b[43mget_child\u001b[49m\u001b[43m(\u001b[49m\u001b[43m)\u001b[49m\u001b[43m \u001b[49m\u001b[38;5;28;43;01mif\u001b[39;49;00m\u001b[43m \u001b[49m\u001b[43mrun_manager\u001b[49m\u001b[43m \u001b[49m\u001b[38;5;28;43;01melse\u001b[39;49;00m\u001b[43m \u001b[49m\u001b[38;5;28;43;01mNone\u001b[39;49;00m\u001b[43m,\u001b[49m\n\u001b[1;32m   1209\u001b[0m \u001b[43m        \u001b[49m\u001b[38;5;241;43m*\u001b[39;49m\u001b[38;5;241;43m*\u001b[39;49m\u001b[43mtool_run_kwargs\u001b[49m\u001b[43m,\u001b[49m\n\u001b[1;32m   1210\u001b[0m \u001b[43m    \u001b[49m\u001b[43m)\u001b[49m\n\u001b[1;32m   1211\u001b[0m \u001b[38;5;28;01melse\u001b[39;00m:\n\u001b[1;32m   1212\u001b[0m     tool_run_kwargs \u001b[38;5;241m=\u001b[39m \u001b[38;5;28mself\u001b[39m\u001b[38;5;241m.\u001b[39magent\u001b[38;5;241m.\u001b[39mtool_run_logging_kwargs()\n",
      "File \u001b[0;32m/opt/conda/lib/python3.10/site-packages/langchain_core/tools.py:401\u001b[0m, in \u001b[0;36mBaseTool.run\u001b[0;34m(self, tool_input, verbose, start_color, color, callbacks, tags, metadata, run_name, **kwargs)\u001b[0m\n\u001b[1;32m    399\u001b[0m \u001b[38;5;28;01mexcept\u001b[39;00m (\u001b[38;5;167;01mException\u001b[39;00m, \u001b[38;5;167;01mKeyboardInterrupt\u001b[39;00m) \u001b[38;5;28;01mas\u001b[39;00m e:\n\u001b[1;32m    400\u001b[0m     run_manager\u001b[38;5;241m.\u001b[39mon_tool_error(e)\n\u001b[0;32m--> 401\u001b[0m     \u001b[38;5;28;01mraise\u001b[39;00m e\n\u001b[1;32m    402\u001b[0m \u001b[38;5;28;01melse\u001b[39;00m:\n\u001b[1;32m    403\u001b[0m     run_manager\u001b[38;5;241m.\u001b[39mon_tool_end(\n\u001b[1;32m    404\u001b[0m         \u001b[38;5;28mstr\u001b[39m(observation), color\u001b[38;5;241m=\u001b[39mcolor, name\u001b[38;5;241m=\u001b[39m\u001b[38;5;28mself\u001b[39m\u001b[38;5;241m.\u001b[39mname, \u001b[38;5;241m*\u001b[39m\u001b[38;5;241m*\u001b[39mkwargs\n\u001b[1;32m    405\u001b[0m     )\n",
      "File \u001b[0;32m/opt/conda/lib/python3.10/site-packages/langchain_core/tools.py:358\u001b[0m, in \u001b[0;36mBaseTool.run\u001b[0;34m(self, tool_input, verbose, start_color, color, callbacks, tags, metadata, run_name, **kwargs)\u001b[0m\n\u001b[1;32m    355\u001b[0m     parsed_input \u001b[38;5;241m=\u001b[39m \u001b[38;5;28mself\u001b[39m\u001b[38;5;241m.\u001b[39m_parse_input(tool_input)\n\u001b[1;32m    356\u001b[0m     tool_args, tool_kwargs \u001b[38;5;241m=\u001b[39m \u001b[38;5;28mself\u001b[39m\u001b[38;5;241m.\u001b[39m_to_args_and_kwargs(parsed_input)\n\u001b[1;32m    357\u001b[0m     observation \u001b[38;5;241m=\u001b[39m (\n\u001b[0;32m--> 358\u001b[0m         \u001b[38;5;28;43mself\u001b[39;49m\u001b[38;5;241;43m.\u001b[39;49m\u001b[43m_run\u001b[49m\u001b[43m(\u001b[49m\u001b[38;5;241;43m*\u001b[39;49m\u001b[43mtool_args\u001b[49m\u001b[43m,\u001b[49m\u001b[43m \u001b[49m\u001b[43mrun_manager\u001b[49m\u001b[38;5;241;43m=\u001b[39;49m\u001b[43mrun_manager\u001b[49m\u001b[43m,\u001b[49m\u001b[43m \u001b[49m\u001b[38;5;241;43m*\u001b[39;49m\u001b[38;5;241;43m*\u001b[39;49m\u001b[43mtool_kwargs\u001b[49m\u001b[43m)\u001b[49m\n\u001b[1;32m    359\u001b[0m         \u001b[38;5;28;01mif\u001b[39;00m new_arg_supported\n\u001b[1;32m    360\u001b[0m         \u001b[38;5;28;01melse\u001b[39;00m \u001b[38;5;28mself\u001b[39m\u001b[38;5;241m.\u001b[39m_run(\u001b[38;5;241m*\u001b[39mtool_args, \u001b[38;5;241m*\u001b[39m\u001b[38;5;241m*\u001b[39mtool_kwargs)\n\u001b[1;32m    361\u001b[0m     )\n\u001b[1;32m    362\u001b[0m \u001b[38;5;28;01mexcept\u001b[39;00m ValidationError \u001b[38;5;28;01mas\u001b[39;00m e:\n\u001b[1;32m    363\u001b[0m     \u001b[38;5;28;01mif\u001b[39;00m \u001b[38;5;129;01mnot\u001b[39;00m \u001b[38;5;28mself\u001b[39m\u001b[38;5;241m.\u001b[39mhandle_validation_error:\n",
      "File \u001b[0;32m/opt/conda/lib/python3.10/site-packages/langchain_core/tools.py:560\u001b[0m, in \u001b[0;36mTool._run\u001b[0;34m(self, run_manager, *args, **kwargs)\u001b[0m\n\u001b[1;32m    557\u001b[0m \u001b[38;5;28;01mif\u001b[39;00m \u001b[38;5;28mself\u001b[39m\u001b[38;5;241m.\u001b[39mfunc:\n\u001b[1;32m    558\u001b[0m     new_argument_supported \u001b[38;5;241m=\u001b[39m signature(\u001b[38;5;28mself\u001b[39m\u001b[38;5;241m.\u001b[39mfunc)\u001b[38;5;241m.\u001b[39mparameters\u001b[38;5;241m.\u001b[39mget(\u001b[38;5;124m\"\u001b[39m\u001b[38;5;124mcallbacks\u001b[39m\u001b[38;5;124m\"\u001b[39m)\n\u001b[1;32m    559\u001b[0m     \u001b[38;5;28;01mreturn\u001b[39;00m (\n\u001b[0;32m--> 560\u001b[0m         \u001b[38;5;28;43mself\u001b[39;49m\u001b[38;5;241;43m.\u001b[39;49m\u001b[43mfunc\u001b[49m\u001b[43m(\u001b[49m\n\u001b[1;32m    561\u001b[0m \u001b[43m            \u001b[49m\u001b[38;5;241;43m*\u001b[39;49m\u001b[43margs\u001b[49m\u001b[43m,\u001b[49m\n\u001b[1;32m    562\u001b[0m \u001b[43m            \u001b[49m\u001b[43mcallbacks\u001b[49m\u001b[38;5;241;43m=\u001b[39;49m\u001b[43mrun_manager\u001b[49m\u001b[38;5;241;43m.\u001b[39;49m\u001b[43mget_child\u001b[49m\u001b[43m(\u001b[49m\u001b[43m)\u001b[49m\u001b[43m \u001b[49m\u001b[38;5;28;43;01mif\u001b[39;49;00m\u001b[43m \u001b[49m\u001b[43mrun_manager\u001b[49m\u001b[43m \u001b[49m\u001b[38;5;28;43;01melse\u001b[39;49;00m\u001b[43m \u001b[49m\u001b[38;5;28;43;01mNone\u001b[39;49;00m\u001b[43m,\u001b[49m\n\u001b[1;32m    563\u001b[0m \u001b[43m            \u001b[49m\u001b[38;5;241;43m*\u001b[39;49m\u001b[38;5;241;43m*\u001b[39;49m\u001b[43mkwargs\u001b[49m\u001b[43m,\u001b[49m\n\u001b[1;32m    564\u001b[0m \u001b[43m        \u001b[49m\u001b[43m)\u001b[49m\n\u001b[1;32m    565\u001b[0m         \u001b[38;5;28;01mif\u001b[39;00m new_argument_supported\n\u001b[1;32m    566\u001b[0m         \u001b[38;5;28;01melse\u001b[39;00m \u001b[38;5;28mself\u001b[39m\u001b[38;5;241m.\u001b[39mfunc(\u001b[38;5;241m*\u001b[39margs, \u001b[38;5;241m*\u001b[39m\u001b[38;5;241m*\u001b[39mkwargs)\n\u001b[1;32m    567\u001b[0m     )\n\u001b[1;32m    568\u001b[0m \u001b[38;5;28;01mraise\u001b[39;00m \u001b[38;5;167;01mNotImplementedError\u001b[39;00m(\u001b[38;5;124m\"\u001b[39m\u001b[38;5;124mTool does not support sync\u001b[39m\u001b[38;5;124m\"\u001b[39m)\n",
      "File \u001b[0;32m/opt/conda/lib/python3.10/site-packages/langchain_core/_api/deprecation.py:145\u001b[0m, in \u001b[0;36mdeprecated.<locals>.deprecate.<locals>.warning_emitting_wrapper\u001b[0;34m(*args, **kwargs)\u001b[0m\n\u001b[1;32m    143\u001b[0m     warned \u001b[38;5;241m=\u001b[39m \u001b[38;5;28;01mTrue\u001b[39;00m\n\u001b[1;32m    144\u001b[0m     emit_warning()\n\u001b[0;32m--> 145\u001b[0m \u001b[38;5;28;01mreturn\u001b[39;00m \u001b[43mwrapped\u001b[49m\u001b[43m(\u001b[49m\u001b[38;5;241;43m*\u001b[39;49m\u001b[43margs\u001b[49m\u001b[43m,\u001b[49m\u001b[43m \u001b[49m\u001b[38;5;241;43m*\u001b[39;49m\u001b[38;5;241;43m*\u001b[39;49m\u001b[43mkwargs\u001b[49m\u001b[43m)\u001b[49m\n",
      "File \u001b[0;32m/opt/conda/lib/python3.10/site-packages/langchain/chains/base.py:538\u001b[0m, in \u001b[0;36mrun\u001b[0;34m(self, callbacks, tags, metadata, *args, **kwargs)\u001b[0m\n\u001b[1;32m    499\u001b[0m \u001b[38;5;129m@deprecated\u001b[39m(\u001b[38;5;124m\"\u001b[39m\u001b[38;5;124m0.1.0\u001b[39m\u001b[38;5;124m\"\u001b[39m, alternative\u001b[38;5;241m=\u001b[39m\u001b[38;5;124m\"\u001b[39m\u001b[38;5;124minvoke\u001b[39m\u001b[38;5;124m\"\u001b[39m, removal\u001b[38;5;241m=\u001b[39m\u001b[38;5;124m\"\u001b[39m\u001b[38;5;124m0.2.0\u001b[39m\u001b[38;5;124m\"\u001b[39m)\n\u001b[1;32m    500\u001b[0m \u001b[38;5;28;01mdef\u001b[39;00m \u001b[38;5;21mrun\u001b[39m(\n\u001b[1;32m    501\u001b[0m     \u001b[38;5;28mself\u001b[39m,\n\u001b[0;32m   (...)\u001b[0m\n\u001b[1;32m    506\u001b[0m     \u001b[38;5;241m*\u001b[39m\u001b[38;5;241m*\u001b[39mkwargs: Any,\n\u001b[1;32m    507\u001b[0m ) \u001b[38;5;241m-\u001b[39m\u001b[38;5;241m>\u001b[39m Any:\n\u001b[1;32m    508\u001b[0m \u001b[38;5;250m    \u001b[39m\u001b[38;5;124;03m\"\"\"Convenience method for executing chain.\u001b[39;00m\n\u001b[1;32m    509\u001b[0m \n\u001b[1;32m    510\u001b[0m \u001b[38;5;124;03m    The main difference between this method and `Chain.__call__` is that this\u001b[39;00m\n\u001b[1;32m    511\u001b[0m \u001b[38;5;124;03m    method expects inputs to be passed directly in as positional arguments or\u001b[39;00m\n\u001b[1;32m    512\u001b[0m \u001b[38;5;124;03m    keyword arguments, whereas `Chain.__call__` expects a single input dictionary\u001b[39;00m\n\u001b[1;32m    513\u001b[0m \u001b[38;5;124;03m    with all the inputs\u001b[39;00m\n\u001b[1;32m    514\u001b[0m \n\u001b[1;32m    515\u001b[0m \u001b[38;5;124;03m    Args:\u001b[39;00m\n\u001b[1;32m    516\u001b[0m \u001b[38;5;124;03m        *args: If the chain expects a single input, it can be passed in as the\u001b[39;00m\n\u001b[1;32m    517\u001b[0m \u001b[38;5;124;03m            sole positional argument.\u001b[39;00m\n\u001b[1;32m    518\u001b[0m \u001b[38;5;124;03m        callbacks: Callbacks to use for this chain run. These will be called in\u001b[39;00m\n\u001b[1;32m    519\u001b[0m \u001b[38;5;124;03m            addition to callbacks passed to the chain during construction, but only\u001b[39;00m\n\u001b[1;32m    520\u001b[0m \u001b[38;5;124;03m            these runtime callbacks will propagate to calls to other objects.\u001b[39;00m\n\u001b[1;32m    521\u001b[0m \u001b[38;5;124;03m        tags: List of string tags to pass to all callbacks. These will be passed in\u001b[39;00m\n\u001b[1;32m    522\u001b[0m \u001b[38;5;124;03m            addition to tags passed to the chain during construction, but only\u001b[39;00m\n\u001b[1;32m    523\u001b[0m \u001b[38;5;124;03m            these runtime tags will propagate to calls to other objects.\u001b[39;00m\n\u001b[1;32m    524\u001b[0m \u001b[38;5;124;03m        **kwargs: If the chain expects multiple inputs, they can be passed in\u001b[39;00m\n\u001b[1;32m    525\u001b[0m \u001b[38;5;124;03m            directly as keyword arguments.\u001b[39;00m\n\u001b[1;32m    526\u001b[0m \n\u001b[1;32m    527\u001b[0m \u001b[38;5;124;03m    Returns:\u001b[39;00m\n\u001b[1;32m    528\u001b[0m \u001b[38;5;124;03m        The chain output.\u001b[39;00m\n\u001b[1;32m    529\u001b[0m \n\u001b[1;32m    530\u001b[0m \u001b[38;5;124;03m    Example:\u001b[39;00m\n\u001b[1;32m    531\u001b[0m \u001b[38;5;124;03m        .. code-block:: python\u001b[39;00m\n\u001b[1;32m    532\u001b[0m \n\u001b[1;32m    533\u001b[0m \u001b[38;5;124;03m            # Suppose we have a single-input chain that takes a 'question' string:\u001b[39;00m\n\u001b[1;32m    534\u001b[0m \u001b[38;5;124;03m            chain.run(\"What's the temperature in Boise, Idaho?\")\u001b[39;00m\n\u001b[1;32m    535\u001b[0m \u001b[38;5;124;03m            # -> \"The temperature in Boise is...\"\u001b[39;00m\n\u001b[1;32m    536\u001b[0m \n\u001b[1;32m    537\u001b[0m \u001b[38;5;124;03m            # Suppose we have a multi-input chain that takes a 'question' string\u001b[39;00m\n\u001b[0;32m--> 538\u001b[0m \u001b[38;5;124;03m            # and 'context' string:\u001b[39;00m\n\u001b[1;32m    539\u001b[0m \u001b[38;5;124;03m            question = \"What's the temperature in Boise, Idaho?\"\u001b[39;00m\n\u001b[1;32m    540\u001b[0m \u001b[38;5;124;03m            context = \"Weather report for Boise, Idaho on 07/03/23...\"\u001b[39;00m\n\u001b[1;32m    541\u001b[0m \u001b[38;5;124;03m            chain.run(question=question, context=context)\u001b[39;00m\n\u001b[1;32m    542\u001b[0m \u001b[38;5;124;03m            # -> \"The temperature in Boise is...\"\u001b[39;00m\n\u001b[1;32m    543\u001b[0m \u001b[38;5;124;03m    \"\"\"\u001b[39;00m\n\u001b[1;32m    544\u001b[0m     \u001b[38;5;66;03m# Run at start to make sure this is possible/defined\u001b[39;00m\n\u001b[1;32m    545\u001b[0m     _output_key \u001b[38;5;241m=\u001b[39m \u001b[38;5;28mself\u001b[39m\u001b[38;5;241m.\u001b[39m_run_output_key\n",
      "File \u001b[0;32m/opt/conda/lib/python3.10/site-packages/langchain_core/_api/deprecation.py:145\u001b[0m, in \u001b[0;36mdeprecated.<locals>.deprecate.<locals>.warning_emitting_wrapper\u001b[0;34m(*args, **kwargs)\u001b[0m\n\u001b[1;32m    143\u001b[0m     warned \u001b[38;5;241m=\u001b[39m \u001b[38;5;28;01mTrue\u001b[39;00m\n\u001b[1;32m    144\u001b[0m     emit_warning()\n\u001b[0;32m--> 145\u001b[0m \u001b[38;5;28;01mreturn\u001b[39;00m \u001b[43mwrapped\u001b[49m\u001b[43m(\u001b[49m\u001b[38;5;241;43m*\u001b[39;49m\u001b[43margs\u001b[49m\u001b[43m,\u001b[49m\u001b[43m \u001b[49m\u001b[38;5;241;43m*\u001b[39;49m\u001b[38;5;241;43m*\u001b[39;49m\u001b[43mkwargs\u001b[49m\u001b[43m)\u001b[49m\n",
      "File \u001b[0;32m/opt/conda/lib/python3.10/site-packages/langchain/chains/base.py:363\u001b[0m, in \u001b[0;36m__call__\u001b[0;34m(self, inputs, return_only_outputs, callbacks, tags, metadata, run_name, include_run_info)\u001b[0m\n\u001b[1;32m    339\u001b[0m \u001b[38;5;129m@deprecated\u001b[39m(\u001b[38;5;124m\"\u001b[39m\u001b[38;5;124m0.1.0\u001b[39m\u001b[38;5;124m\"\u001b[39m, alternative\u001b[38;5;241m=\u001b[39m\u001b[38;5;124m\"\u001b[39m\u001b[38;5;124minvoke\u001b[39m\u001b[38;5;124m\"\u001b[39m, removal\u001b[38;5;241m=\u001b[39m\u001b[38;5;124m\"\u001b[39m\u001b[38;5;124m0.2.0\u001b[39m\u001b[38;5;124m\"\u001b[39m)\n\u001b[1;32m    340\u001b[0m \u001b[38;5;28;01mdef\u001b[39;00m \u001b[38;5;21m__call__\u001b[39m(\n\u001b[1;32m    341\u001b[0m     \u001b[38;5;28mself\u001b[39m,\n\u001b[0;32m   (...)\u001b[0m\n\u001b[1;32m    349\u001b[0m     include_run_info: \u001b[38;5;28mbool\u001b[39m \u001b[38;5;241m=\u001b[39m \u001b[38;5;28;01mFalse\u001b[39;00m,\n\u001b[1;32m    350\u001b[0m ) \u001b[38;5;241m-\u001b[39m\u001b[38;5;241m>\u001b[39m Dict[\u001b[38;5;28mstr\u001b[39m, Any]:\n\u001b[1;32m    351\u001b[0m \u001b[38;5;250m    \u001b[39m\u001b[38;5;124;03m\"\"\"Execute the chain.\u001b[39;00m\n\u001b[1;32m    352\u001b[0m \n\u001b[1;32m    353\u001b[0m \u001b[38;5;124;03m    Args:\u001b[39;00m\n\u001b[1;32m    354\u001b[0m \u001b[38;5;124;03m        inputs: Dictionary of inputs, or single input if chain expects\u001b[39;00m\n\u001b[1;32m    355\u001b[0m \u001b[38;5;124;03m            only one param. Should contain all inputs specified in\u001b[39;00m\n\u001b[1;32m    356\u001b[0m \u001b[38;5;124;03m            `Chain.input_keys` except for inputs that will be set by the chain's\u001b[39;00m\n\u001b[1;32m    357\u001b[0m \u001b[38;5;124;03m            memory.\u001b[39;00m\n\u001b[1;32m    358\u001b[0m \u001b[38;5;124;03m        return_only_outputs: Whether to return only outputs in the\u001b[39;00m\n\u001b[1;32m    359\u001b[0m \u001b[38;5;124;03m            response. If True, only new keys generated by this chain will be\u001b[39;00m\n\u001b[1;32m    360\u001b[0m \u001b[38;5;124;03m            returned. If False, both input keys and new keys generated by this\u001b[39;00m\n\u001b[1;32m    361\u001b[0m \u001b[38;5;124;03m            chain will be returned. Defaults to False.\u001b[39;00m\n\u001b[1;32m    362\u001b[0m \u001b[38;5;124;03m        callbacks: Callbacks to use for this chain run. These will be called in\u001b[39;00m\n\u001b[0;32m--> 363\u001b[0m \u001b[38;5;124;03m            addition to callbacks passed to the chain during construction, but only\u001b[39;00m\n\u001b[1;32m    364\u001b[0m \u001b[38;5;124;03m            these runtime callbacks will propagate to calls to other objects.\u001b[39;00m\n\u001b[1;32m    365\u001b[0m \u001b[38;5;124;03m        tags: List of string tags to pass to all callbacks. These will be passed in\u001b[39;00m\n\u001b[1;32m    366\u001b[0m \u001b[38;5;124;03m            addition to tags passed to the chain during construction, but only\u001b[39;00m\n\u001b[1;32m    367\u001b[0m \u001b[38;5;124;03m            these runtime tags will propagate to calls to other objects.\u001b[39;00m\n\u001b[1;32m    368\u001b[0m \u001b[38;5;124;03m        metadata: Optional metadata associated with the chain. Defaults to None\u001b[39;00m\n\u001b[1;32m    369\u001b[0m \u001b[38;5;124;03m        include_run_info: Whether to include run info in the response. Defaults\u001b[39;00m\n\u001b[1;32m    370\u001b[0m \u001b[38;5;124;03m            to False.\u001b[39;00m\n\u001b[1;32m    371\u001b[0m \n\u001b[1;32m    372\u001b[0m \u001b[38;5;124;03m    Returns:\u001b[39;00m\n\u001b[1;32m    373\u001b[0m \u001b[38;5;124;03m        A dict of named outputs. Should contain all outputs specified in\u001b[39;00m\n\u001b[1;32m    374\u001b[0m \u001b[38;5;124;03m            `Chain.output_keys`.\u001b[39;00m\n\u001b[1;32m    375\u001b[0m \u001b[38;5;124;03m    \"\"\"\u001b[39;00m\n\u001b[1;32m    376\u001b[0m     config \u001b[38;5;241m=\u001b[39m {\n\u001b[1;32m    377\u001b[0m         \u001b[38;5;124m\"\u001b[39m\u001b[38;5;124mcallbacks\u001b[39m\u001b[38;5;124m\"\u001b[39m: callbacks,\n\u001b[1;32m    378\u001b[0m         \u001b[38;5;124m\"\u001b[39m\u001b[38;5;124mtags\u001b[39m\u001b[38;5;124m\"\u001b[39m: tags,\n\u001b[1;32m    379\u001b[0m         \u001b[38;5;124m\"\u001b[39m\u001b[38;5;124mmetadata\u001b[39m\u001b[38;5;124m\"\u001b[39m: metadata,\n\u001b[1;32m    380\u001b[0m         \u001b[38;5;124m\"\u001b[39m\u001b[38;5;124mrun_name\u001b[39m\u001b[38;5;124m\"\u001b[39m: run_name,\n\u001b[1;32m    381\u001b[0m     }\n\u001b[1;32m    383\u001b[0m     \u001b[38;5;28;01mreturn\u001b[39;00m \u001b[38;5;28mself\u001b[39m\u001b[38;5;241m.\u001b[39minvoke(\n\u001b[1;32m    384\u001b[0m         inputs,\n\u001b[1;32m    385\u001b[0m         cast(RunnableConfig, {k: v \u001b[38;5;28;01mfor\u001b[39;00m k, v \u001b[38;5;129;01min\u001b[39;00m config\u001b[38;5;241m.\u001b[39mitems() \u001b[38;5;28;01mif\u001b[39;00m v \u001b[38;5;129;01mis\u001b[39;00m \u001b[38;5;129;01mnot\u001b[39;00m \u001b[38;5;28;01mNone\u001b[39;00m}),\n\u001b[1;32m    386\u001b[0m         return_only_outputs\u001b[38;5;241m=\u001b[39mreturn_only_outputs,\n\u001b[1;32m    387\u001b[0m         include_run_info\u001b[38;5;241m=\u001b[39minclude_run_info,\n\u001b[1;32m    388\u001b[0m     )\n",
      "File \u001b[0;32m/opt/conda/lib/python3.10/site-packages/langchain/chains/base.py:162\u001b[0m, in \u001b[0;36mChain.invoke\u001b[0;34m(self, input, config, **kwargs)\u001b[0m\n\u001b[1;32m      0\u001b[0m <Error retrieving source code with stack_data see ipython/ipython#13598>\n",
      "File \u001b[0;32m/opt/conda/lib/python3.10/site-packages/langchain/chains/base.py:156\u001b[0m, in \u001b[0;36mChain.invoke\u001b[0;34m(self, input, config, **kwargs)\u001b[0m\n\u001b[1;32m    150\u001b[0m run_manager \u001b[38;5;241m=\u001b[39m callback_manager\u001b[38;5;241m.\u001b[39mon_chain_start(\n\u001b[1;32m    151\u001b[0m     dumpd(\u001b[38;5;28mself\u001b[39m),\n\u001b[1;32m    152\u001b[0m     inputs,\n\u001b[1;32m    153\u001b[0m     name\u001b[38;5;241m=\u001b[39mrun_name,\n\u001b[1;32m    154\u001b[0m )\n\u001b[1;32m    155\u001b[0m \u001b[38;5;28;01mtry\u001b[39;00m:\n\u001b[0;32m--> 156\u001b[0m     \u001b[38;5;28mself\u001b[39m\u001b[38;5;241m.\u001b[39m_validate_inputs(inputs)\n\u001b[1;32m    157\u001b[0m     outputs \u001b[38;5;241m=\u001b[39m (\n\u001b[1;32m    158\u001b[0m         \u001b[38;5;28mself\u001b[39m\u001b[38;5;241m.\u001b[39m_call(inputs, run_manager\u001b[38;5;241m=\u001b[39mrun_manager)\n\u001b[1;32m    159\u001b[0m         \u001b[38;5;28;01mif\u001b[39;00m new_arg_supported\n\u001b[1;32m    160\u001b[0m         \u001b[38;5;28;01melse\u001b[39;00m \u001b[38;5;28mself\u001b[39m\u001b[38;5;241m.\u001b[39m_call(inputs)\n\u001b[1;32m    161\u001b[0m     )\n\u001b[1;32m    163\u001b[0m     final_outputs: Dict[\u001b[38;5;28mstr\u001b[39m, Any] \u001b[38;5;241m=\u001b[39m \u001b[38;5;28mself\u001b[39m\u001b[38;5;241m.\u001b[39mprep_outputs(\n\u001b[1;32m    164\u001b[0m         inputs, outputs, return_only_outputs\n\u001b[1;32m    165\u001b[0m     )\n",
      "File \u001b[0;32m/opt/conda/lib/python3.10/site-packages/langchain/chains/llm_math/base.py:158\u001b[0m, in \u001b[0;36mLLMMathChain._call\u001b[0;34m(self, inputs, run_manager)\u001b[0m\n\u001b[1;32m    152\u001b[0m _run_manager\u001b[38;5;241m.\u001b[39mon_text(inputs[\u001b[38;5;28mself\u001b[39m\u001b[38;5;241m.\u001b[39minput_key])\n\u001b[1;32m    153\u001b[0m llm_output \u001b[38;5;241m=\u001b[39m \u001b[38;5;28mself\u001b[39m\u001b[38;5;241m.\u001b[39mllm_chain\u001b[38;5;241m.\u001b[39mpredict(\n\u001b[1;32m    154\u001b[0m     question\u001b[38;5;241m=\u001b[39minputs[\u001b[38;5;28mself\u001b[39m\u001b[38;5;241m.\u001b[39minput_key],\n\u001b[1;32m    155\u001b[0m     stop\u001b[38;5;241m=\u001b[39m[\u001b[38;5;124m\"\u001b[39m\u001b[38;5;124m```output\u001b[39m\u001b[38;5;124m\"\u001b[39m],\n\u001b[1;32m    156\u001b[0m     callbacks\u001b[38;5;241m=\u001b[39m_run_manager\u001b[38;5;241m.\u001b[39mget_child(),\n\u001b[1;32m    157\u001b[0m )\n\u001b[0;32m--> 158\u001b[0m \u001b[38;5;28;01mreturn\u001b[39;00m \u001b[38;5;28;43mself\u001b[39;49m\u001b[38;5;241;43m.\u001b[39;49m\u001b[43m_process_llm_result\u001b[49m\u001b[43m(\u001b[49m\u001b[43mllm_output\u001b[49m\u001b[43m,\u001b[49m\u001b[43m \u001b[49m\u001b[43m_run_manager\u001b[49m\u001b[43m)\u001b[49m\n",
      "File \u001b[0;32m/opt/conda/lib/python3.10/site-packages/langchain/chains/llm_math/base.py:121\u001b[0m, in \u001b[0;36mLLMMathChain._process_llm_result\u001b[0;34m(self, llm_output, run_manager)\u001b[0m\n\u001b[1;32m    119\u001b[0m     answer \u001b[38;5;241m=\u001b[39m \u001b[38;5;124m\"\u001b[39m\u001b[38;5;124mAnswer: \u001b[39m\u001b[38;5;124m\"\u001b[39m \u001b[38;5;241m+\u001b[39m llm_output\u001b[38;5;241m.\u001b[39msplit(\u001b[38;5;124m\"\u001b[39m\u001b[38;5;124mAnswer:\u001b[39m\u001b[38;5;124m\"\u001b[39m)[\u001b[38;5;241m-\u001b[39m\u001b[38;5;241m1\u001b[39m]\n\u001b[1;32m    120\u001b[0m \u001b[38;5;28;01melse\u001b[39;00m:\n\u001b[0;32m--> 121\u001b[0m     \u001b[38;5;28;01mraise\u001b[39;00m \u001b[38;5;167;01mValueError\u001b[39;00m(\u001b[38;5;124mf\u001b[39m\u001b[38;5;124m\"\u001b[39m\u001b[38;5;124munknown format from LLM: \u001b[39m\u001b[38;5;132;01m{\u001b[39;00mllm_output\u001b[38;5;132;01m}\u001b[39;00m\u001b[38;5;124m\"\u001b[39m)\n\u001b[1;32m    122\u001b[0m \u001b[38;5;28;01mreturn\u001b[39;00m {\u001b[38;5;28mself\u001b[39m\u001b[38;5;241m.\u001b[39moutput_key: answer}\n",
      "\u001b[0;31mValueError\u001b[0m: unknown format from LLM: Question: What is the cube root of 125?\n```text\n125**(1/3)\n```\n...numexpr.evaluate(\"125**(1/3)\")..."
     ]
    }
   ],
   "source": [
    "output = agent.invoke(\n",
    "    \"Who is the current prime minister of the India and who was the first Prime Minister of India? Calculate the difference in the total years served by both the Primi Minister and who has served the maximum years?\"\n",
    ")"
   ]
  },
  {
   "cell_type": "markdown",
   "id": "a6f04cf4-82a1-499c-bcaa-36c666d51dc9",
   "metadata": {},
   "source": [
    "## Agent with Coding Skills"
   ]
  },
  {
   "cell_type": "code",
   "execution_count": 25,
   "id": "ff0e2734-1395-4cfa-8e71-3416ccc748c7",
   "metadata": {},
   "outputs": [],
   "source": [
    "from langchain import hub\n",
    "from langchain.agents import AgentExecutor\n",
    "from langchain_experimental.tools import PythonREPLTool\n",
    "import os\n",
    "os.environ[\"OPENAI_API_BASE\"] = \"http://localhost:8080/v1\"\n",
    "os.environ[\"OPENAI_API_KEY\"] = \"NONE\""
   ]
  },
  {
   "cell_type": "code",
   "execution_count": 26,
   "id": "061ea345-2bff-4e4a-8d21-f9415bfe6b50",
   "metadata": {},
   "outputs": [],
   "source": [
    "tools = [PythonREPLTool()]"
   ]
  },
  {
   "cell_type": "code",
   "execution_count": 27,
   "id": "230841ac-466e-4c68-9e63-30f9498c97be",
   "metadata": {},
   "outputs": [
    {
     "data": {
      "text/plain": [
       "'A Python shell. Use this to execute python commands. Input should be a valid python command. If you want to see the output of a value, you should print it out with `print(...)`.'"
      ]
     },
     "execution_count": 27,
     "metadata": {},
     "output_type": "execute_result"
    }
   ],
   "source": [
    "tools[0].description"
   ]
  },
  {
   "cell_type": "code",
   "execution_count": 28,
   "id": "a4050c98-72fb-4462-8741-7a370a24ae85",
   "metadata": {},
   "outputs": [],
   "source": [
    "from langchain.agents import create_react_agent\n"
   ]
  },
  {
   "cell_type": "code",
   "execution_count": 29,
   "id": "218e4714-a9d1-4676-a81c-b001ae16cb2c",
   "metadata": {},
   "outputs": [],
   "source": [
    "instructions = \"\"\"You are an agent designed to write and execute python code to answer questions.\n",
    "You have access to a python REPL, which you can use to execute python code.\n",
    "If you get an error, debug your code and try again.\n",
    "Only use the output of your code to answer the question. \n",
    "You might know the answer without running any code, but you should still run the code to get the answer.\n",
    "If it does not seem like you can write code to answer the question, just return \"I don't know\" as the answer.\n",
    "\"\"\"\n",
    "base_prompt = hub.pull(\"langchain-ai/react-agent-template\")\n",
    "prompt = base_prompt.partial(instructions=instructions)"
   ]
  },
  {
   "cell_type": "code",
   "execution_count": 30,
   "id": "2ca0d39d-5f4f-47a4-930d-7eaee9181d3b",
   "metadata": {},
   "outputs": [
    {
     "name": "stdout",
     "output_type": "stream",
     "text": [
      "{instructions}\n",
      "\n",
      "TOOLS:\n",
      "------\n",
      "\n",
      "You have access to the following tools:\n",
      "\n",
      "{tools}\n",
      "\n",
      "To use a tool, please use the following format:\n",
      "\n",
      "```\n",
      "Thought: Do I need to use a tool? Yes\n",
      "Action: the action to take, should be one of [{tool_names}]\n",
      "Action Input: the input to the action\n",
      "Observation: the result of the action\n",
      "```\n",
      "\n",
      "When you have a response to say to the Human, or if you do not need to use a tool, you MUST use the format:\n",
      "\n",
      "```\n",
      "Thought: Do I need to use a tool? No\n",
      "Final Answer: [your response here]\n",
      "```\n",
      "\n",
      "Begin!\n",
      "\n",
      "Previous conversation history:\n",
      "{chat_history}\n",
      "\n",
      "New input: {input}\n",
      "{agent_scratchpad}\n"
     ]
    }
   ],
   "source": [
    "print(prompt.template)"
   ]
  },
  {
   "cell_type": "code",
   "execution_count": 31,
   "id": "4200f274-7b58-4c29-b7f2-f017d1f0db80",
   "metadata": {},
   "outputs": [],
   "source": [
    "agent = create_react_agent(ChatOpenAI(model=\"mixtral\", temperature=0), tools, prompt)\n",
    "agent_executor = AgentExecutor(agent=agent, tools=tools, verbose=True)"
   ]
  },
  {
   "cell_type": "code",
   "execution_count": 32,
   "id": "c2efc82b-b4df-4c4c-8605-aa6d6663f609",
   "metadata": {},
   "outputs": [
    {
     "name": "stdout",
     "output_type": "stream",
     "text": [
      "\n",
      "\n",
      "\u001b[1m> Entering new AgentExecutor chain...\u001b[0m\n"
     ]
    },
    {
     "name": "stderr",
     "output_type": "stream",
     "text": [
      "Python REPL can execute arbitrary code. Use with caution.\n"
     ]
    },
    {
     "name": "stdout",
     "output_type": "stream",
     "text": [
      "\u001b[32;1m\u001b[1;3mThought: Do I need to use a tool? Yes\n",
      "Action: Python_REPL\n",
      "Action Input: import math\n",
      "print(math.sin(math.pi/4))\u001b[0m\u001b[36;1m\u001b[1;3m0.7071067811865475\n",
      "\u001b[0m\u001b[32;1m\u001b[1;3mDo I need to use a tool? No\n",
      "Final Answer: The sine of 45 degrees, expressed in radians as math.pi/4, is approximately 0.7071067811865475.\u001b[0m\n",
      "\n",
      "\u001b[1m> Finished chain.\u001b[0m\n"
     ]
    },
    {
     "data": {
      "text/plain": [
       "{'input': 'What is the sin(45)?',\n",
       " 'output': 'The sine of 45 degrees, expressed in radians as math.pi/4, is approximately 0.7071067811865475.'}"
      ]
     },
     "execution_count": 32,
     "metadata": {},
     "output_type": "execute_result"
    }
   ],
   "source": [
    "await agent_executor.ainvoke({\"input\": \"What is the sin(45)?\"})"
   ]
  },
  {
   "cell_type": "code",
   "execution_count": 33,
   "id": "dca6a059-0fdd-4021-8cf6-0d37516795c3",
   "metadata": {},
   "outputs": [
    {
     "name": "stdout",
     "output_type": "stream",
     "text": [
      "\n",
      "\n",
      "\u001b[1m> Entering new AgentExecutor chain...\u001b[0m\n",
      "\u001b[32;1m\u001b[1;3mThought: Do I need to use a tool? Yes\n",
      "Action: Python_REPL\n",
      "Action Input: \n",
      "```python\n",
      "def collatz(n):\n",
      "    terms = 1\n",
      "    while n != 1:\n",
      "        if n % 2 == 0:\n",
      "            n = n // 2\n",
      "        else:\n",
      "            n = 3*n + 1\n",
      "        terms += 1\n",
      "    return terms\n",
      "\n",
      "max_terms = 0\n",
      "max_number = 0\n",
      "for i in range(1, 1000000):\n",
      "    current_terms = collatz(i)\n",
      "    if current_terms > max_terms:\n",
      "        max_terms = current_terms\n",
      "        max_number = i\n",
      "print(max_number)\n",
      "```\u001b[0m\u001b[36;1m\u001b[1;3m837799\n",
      "\u001b[0m\u001b[32;1m\u001b[1;3mDo I need to use a tool? No\n",
      "Final Answer: The starting number under one million that produces the longest chain is 837799.\u001b[0m\n",
      "\n",
      "\u001b[1m> Finished chain.\u001b[0m\n"
     ]
    },
    {
     "data": {
      "text/plain": [
       "{'input': '<p>The following iterative sequence is defined for the set of positive integers:</p>\\n<ul style=\"list-style-type:none;\">\\n<li>$n \\\\to n/2$ ($n$ is even)</li>\\n<li>$n \\\\to 3n + 1$ ($n$ is odd)</li></ul>\\n<p>Using the rule above and starting with $13$, we generate the following sequence:\\n$$13 \\\\to 40 \\\\to 20 \\\\to 10 \\\\to 5 \\\\to 16 \\\\to 8 \\\\to 4 \\\\to 2 \\\\to 1.$$</p>\\n<p>It can be seen that this sequence (starting at $13$ and finishing at $1$) contains $10$ terms. Although it has not been proved yet (Collatz Problem), it is thought that all starting numbers finish at $1$.</p>\\n<p>Which starting number, under one million, produces the longest chain?</p>\\n<p class=\"note\"><b>NOTE:</b> Once the chain starts the terms are allowed to go above one million.</p>\\n</p>\\n',\n",
       " 'output': 'The starting number under one million that produces the longest chain is 837799.'}"
      ]
     },
     "execution_count": 33,
     "metadata": {},
     "output_type": "execute_result"
    }
   ],
   "source": [
    "await agent_executor.ainvoke({\"input\" : \"\"\"<p>The following iterative sequence is defined for the set of positive integers:</p>\n",
    "<ul style=\"list-style-type:none;\">\n",
    "<li>$n \\\\to n/2$ ($n$ is even)</li>\n",
    "<li>$n \\\\to 3n + 1$ ($n$ is odd)</li></ul>\n",
    "<p>Using the rule above and starting with $13$, we generate the following sequence:\n",
    "$$13 \\\\to 40 \\\\to 20 \\\\to 10 \\\\to 5 \\\\to 16 \\\\to 8 \\\\to 4 \\\\to 2 \\\\to 1.$$</p>\n",
    "<p>It can be seen that this sequence (starting at $13$ and finishing at $1$) contains $10$ terms. Although it has not been proved yet (Collatz Problem), it is thought that all starting numbers finish at $1$.</p>\n",
    "<p>Which starting number, under one million, produces the longest chain?</p>\n",
    "<p class=\"note\"><b>NOTE:</b> Once the chain starts the terms are allowed to go above one million.</p>\n",
    "</p>\n",
    "\"\"\"})"
   ]
  },
  {
   "cell_type": "markdown",
   "id": "e4ce45b3-ae7a-4c0e-94c3-dac91327e3b4",
   "metadata": {},
   "source": [
    "## Agent with Google Search & Memory"
   ]
  },
  {
   "cell_type": "code",
   "execution_count": null,
   "id": "41ace0b9-0e5f-4e15-bb4e-33037d6c2dfe",
   "metadata": {},
   "outputs": [],
   "source": []
  }
 ],
 "metadata": {
  "kernelspec": {
   "display_name": "Python 3 (ipykernel)",
   "language": "python",
   "name": "python3"
  },
  "language_info": {
   "codemirror_mode": {
    "name": "ipython",
    "version": 3
   },
   "file_extension": ".py",
   "mimetype": "text/x-python",
   "name": "python",
   "nbconvert_exporter": "python",
   "pygments_lexer": "ipython3",
   "version": "3.10.9"
  }
 },
 "nbformat": 4,
 "nbformat_minor": 5
}
